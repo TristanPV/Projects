{
 "cells": [
  {
   "cell_type": "markdown",
   "source": [
    "# Intro"
   ],
   "metadata": {
    "id": "W_I3A9rY79iv"
   },
   "id": "W_I3A9rY79iv"
  },
  {
   "cell_type": "code",
   "execution_count": 1,
   "outputs": [],
   "source": [
    "import pandas as pd\n",
    "import numpy as np\n",
    "import math\n",
    "import matplotlib.pyplot as plt\n",
    "import seaborn as sns\n",
    "from scipy.stats import chi2_contingency, pearsonr\n",
    "import statsmodels.api as sm\n",
    "from statsmodels.formula.api import ols\n",
    "from sklearn.metrics import roc_auc_score, cohen_kappa_score\n",
    "import random\n",
    "from sklearn.metrics import classification_report, confusion_matrix, ConfusionMatrixDisplay\n",
    "from sklearn.metrics import mean_squared_error, r2_score\n",
    "import statsmodels.api as sm\n",
    "from sklearn.impute import SimpleImputer\n",
    "from sklearn.model_selection import train_test_split\n",
    "from sklearn.linear_model import LinearRegression\n",
    "from sklearn.neighbors import KNeighborsClassifier, KNeighborsRegressor\n",
    "from sklearn.tree import DecisionTreeClassifier\n",
    "from sklearn.ensemble import RandomForestClassifier\n",
    "from sklearn.linear_model import LogisticRegression\n",
    "from sklearn.compose import make_column_transformer\n",
    "from sklearn.pipeline import make_pipeline\n",
    "from sklearn.preprocessing import OneHotEncoder, StandardScaler\n",
    "from sklearn.metrics import accuracy_score, precision_score, f1_score, recall_score, r2_score, mean_squared_error\n",
    "from sklearn.metrics import cohen_kappa_score\n",
    "from sklearn.metrics import roc_auc_score\n",
    "import matplotlib.pyplot as plt\n",
    "from sklearn.model_selection import RandomizedSearchCV\n",
    "%matplotlib inline\n",
    "import warnings\n",
    "\n",
    "# Suppress all warnings\n",
    "warnings.filterwarnings('ignore')"
   ],
   "metadata": {
    "id": "6feef1c59ad7e2b3",
    "ExecuteTime": {
     "end_time": "2024-03-17T16:16:24.356406700Z",
     "start_time": "2024-03-17T16:16:23.417823800Z"
    }
   },
   "id": "6feef1c59ad7e2b3"
  },
  {
   "cell_type": "markdown",
   "source": [
    "#Dataset imported"
   ],
   "metadata": {
    "id": "cQkxqAg77rCF"
   },
   "id": "cQkxqAg77rCF"
  },
  {
   "cell_type": "code",
   "execution_count": 2,
   "outputs": [],
   "source": [
    "df =  pd.read_csv(\"data/EMLyon_data.csv\")"
   ],
   "metadata": {
    "id": "3367679cff08df0a",
    "ExecuteTime": {
     "end_time": "2024-03-17T16:16:24.519609800Z",
     "start_time": "2024-03-17T16:16:24.356406700Z"
    }
   },
   "id": "3367679cff08df0a"
  },
  {
   "cell_type": "code",
   "source": [
    "df.columns"
   ],
   "metadata": {
    "colab": {
     "base_uri": "https://localhost:8080/"
    },
    "id": "EYAxVlFLljML",
    "outputId": "610212bc-204e-4b29-dde0-6aebd2302e2e",
    "ExecuteTime": {
     "end_time": "2024-03-17T16:16:24.526881400Z",
     "start_time": "2024-03-17T16:16:24.522610100Z"
    }
   },
   "id": "EYAxVlFLljML",
   "execution_count": 3,
   "outputs": [
    {
     "data": {
      "text/plain": "Index(['year', 'month', 'week_ref', 'code_market', 'market', 'business_unit',\n       'code_resort', 'resort', 'sector_resort', 'client_typo', 'loyal_new',\n       'nbr_gm'],\n      dtype='object')"
     },
     "execution_count": 3,
     "metadata": {},
     "output_type": "execute_result"
    }
   ]
  },
  {
   "cell_type": "markdown",
   "source": [
    "###Info & Description"
   ],
   "metadata": {
    "id": "hCVnx0QM7tyY"
   },
   "id": "hCVnx0QM7tyY"
  },
  {
   "cell_type": "code",
   "execution_count": 4,
   "outputs": [
    {
     "name": "stdout",
     "output_type": "stream",
     "text": [
      "<class 'pandas.core.frame.DataFrame'>\n",
      "RangeIndex: 225424 entries, 0 to 225423\n",
      "Data columns (total 12 columns):\n",
      " #   Column         Non-Null Count   Dtype \n",
      "---  ------         --------------   ----- \n",
      " 0   year           225424 non-null  int64 \n",
      " 1   month          225424 non-null  int64 \n",
      " 2   week_ref       225424 non-null  object\n",
      " 3   code_market    225424 non-null  int64 \n",
      " 4   market         225424 non-null  object\n",
      " 5   business_unit  225424 non-null  object\n",
      " 6   code_resort    225422 non-null  object\n",
      " 7   resort         225422 non-null  object\n",
      " 8   sector_resort  225422 non-null  object\n",
      " 9   client_typo    225424 non-null  object\n",
      " 10  loyal_new      225424 non-null  object\n",
      " 11  nbr_gm         225424 non-null  int64 \n",
      "dtypes: int64(4), object(8)\n",
      "memory usage: 20.6+ MB\n"
     ]
    }
   ],
   "source": [
    "df.info()"
   ],
   "metadata": {
    "colab": {
     "base_uri": "https://localhost:8080/"
    },
    "id": "919c29e80006b732",
    "outputId": "7928ffe1-a288-4283-8e3b-f367688ab2e9",
    "ExecuteTime": {
     "end_time": "2024-03-17T16:16:24.659950100Z",
     "start_time": "2024-03-17T16:16:24.525880500Z"
    }
   },
   "id": "919c29e80006b732"
  },
  {
   "cell_type": "code",
   "execution_count": 5,
   "outputs": [],
   "source": [
    "working_copy = df.copy()"
   ],
   "metadata": {
    "id": "20048539a19e14f2",
    "ExecuteTime": {
     "end_time": "2024-03-17T16:16:24.670854Z",
     "start_time": "2024-03-17T16:16:24.658946200Z"
    }
   },
   "id": "20048539a19e14f2"
  },
  {
   "cell_type": "code",
   "execution_count": 6,
   "outputs": [
    {
     "data": {
      "text/plain": "   year  month    week_ref  code_market        market business_unit  \\\n0  2021     11  2021-11-13           30   SWITZERLAND           EAF   \n1  2021     11  2021-11-13           50       GERMANY           EAF   \n2  2021     11  2021-11-13           20       BELGIUM           EAF   \n3  2021     11  2021-11-13          130  SOUTH AFRICA           EAF   \n4  2021     11  2021-11-13           10        FRANCE           EAF   \n\n  code_resort  resort                    sector_resort client_typo loyal_new  \\\n0        ALBC  ALBION  EUROPE AFRICA SEA & COUNTRYSIDE      Adults     Loyal   \n1        ALBC  ALBION  EUROPE AFRICA SEA & COUNTRYSIDE      Family     Loyal   \n2        ALBC  ALBION  EUROPE AFRICA SEA & COUNTRYSIDE      Adults       New   \n3        ALBC  ALBION  EUROPE AFRICA SEA & COUNTRYSIDE      Family       New   \n4        ALBC  ALBION  EUROPE AFRICA SEA & COUNTRYSIDE      Family     Loyal   \n\n   nbr_gm  \n0      11  \n1       4  \n2       6  \n3       6  \n4      15  ",
      "text/html": "<div>\n<style scoped>\n    .dataframe tbody tr th:only-of-type {\n        vertical-align: middle;\n    }\n\n    .dataframe tbody tr th {\n        vertical-align: top;\n    }\n\n    .dataframe thead th {\n        text-align: right;\n    }\n</style>\n<table border=\"1\" class=\"dataframe\">\n  <thead>\n    <tr style=\"text-align: right;\">\n      <th></th>\n      <th>year</th>\n      <th>month</th>\n      <th>week_ref</th>\n      <th>code_market</th>\n      <th>market</th>\n      <th>business_unit</th>\n      <th>code_resort</th>\n      <th>resort</th>\n      <th>sector_resort</th>\n      <th>client_typo</th>\n      <th>loyal_new</th>\n      <th>nbr_gm</th>\n    </tr>\n  </thead>\n  <tbody>\n    <tr>\n      <th>0</th>\n      <td>2021</td>\n      <td>11</td>\n      <td>2021-11-13</td>\n      <td>30</td>\n      <td>SWITZERLAND</td>\n      <td>EAF</td>\n      <td>ALBC</td>\n      <td>ALBION</td>\n      <td>EUROPE AFRICA SEA &amp; COUNTRYSIDE</td>\n      <td>Adults</td>\n      <td>Loyal</td>\n      <td>11</td>\n    </tr>\n    <tr>\n      <th>1</th>\n      <td>2021</td>\n      <td>11</td>\n      <td>2021-11-13</td>\n      <td>50</td>\n      <td>GERMANY</td>\n      <td>EAF</td>\n      <td>ALBC</td>\n      <td>ALBION</td>\n      <td>EUROPE AFRICA SEA &amp; COUNTRYSIDE</td>\n      <td>Family</td>\n      <td>Loyal</td>\n      <td>4</td>\n    </tr>\n    <tr>\n      <th>2</th>\n      <td>2021</td>\n      <td>11</td>\n      <td>2021-11-13</td>\n      <td>20</td>\n      <td>BELGIUM</td>\n      <td>EAF</td>\n      <td>ALBC</td>\n      <td>ALBION</td>\n      <td>EUROPE AFRICA SEA &amp; COUNTRYSIDE</td>\n      <td>Adults</td>\n      <td>New</td>\n      <td>6</td>\n    </tr>\n    <tr>\n      <th>3</th>\n      <td>2021</td>\n      <td>11</td>\n      <td>2021-11-13</td>\n      <td>130</td>\n      <td>SOUTH AFRICA</td>\n      <td>EAF</td>\n      <td>ALBC</td>\n      <td>ALBION</td>\n      <td>EUROPE AFRICA SEA &amp; COUNTRYSIDE</td>\n      <td>Family</td>\n      <td>New</td>\n      <td>6</td>\n    </tr>\n    <tr>\n      <th>4</th>\n      <td>2021</td>\n      <td>11</td>\n      <td>2021-11-13</td>\n      <td>10</td>\n      <td>FRANCE</td>\n      <td>EAF</td>\n      <td>ALBC</td>\n      <td>ALBION</td>\n      <td>EUROPE AFRICA SEA &amp; COUNTRYSIDE</td>\n      <td>Family</td>\n      <td>Loyal</td>\n      <td>15</td>\n    </tr>\n  </tbody>\n</table>\n</div>"
     },
     "execution_count": 6,
     "metadata": {},
     "output_type": "execute_result"
    }
   ],
   "source": [
    "working_copy.head()"
   ],
   "metadata": {
    "colab": {
     "base_uri": "https://localhost:8080/",
     "height": 206
    },
    "id": "fa9331dcf92daf8e",
    "outputId": "ad1d918f-82ea-420a-bad8-0510420fc2e6",
    "ExecuteTime": {
     "end_time": "2024-03-17T16:16:24.686093100Z",
     "start_time": "2024-03-17T16:16:24.669853100Z"
    }
   },
   "id": "fa9331dcf92daf8e"
  },
  {
   "cell_type": "markdown",
   "source": [
    "### Sorted by chronological order"
   ],
   "metadata": {
    "id": "UsoivJpI71NJ"
   },
   "id": "UsoivJpI71NJ"
  },
  {
   "cell_type": "code",
   "execution_count": 7,
   "outputs": [],
   "source": [
    "working_copy.sort_values(by=[\"week_ref\"], inplace=True, ascending=True)"
   ],
   "metadata": {
    "id": "a00cabbe63b47b73",
    "ExecuteTime": {
     "end_time": "2024-03-17T16:16:24.781243500Z",
     "start_time": "2024-03-17T16:16:24.684092500Z"
    }
   },
   "id": "a00cabbe63b47b73"
  },
  {
   "cell_type": "code",
   "execution_count": 8,
   "outputs": [
    {
     "data": {
      "text/plain": "        year  month    week_ref  code_market          market  business_unit  \\\n100443  2017     12  2017-12-30          330          BRAZIL  SOUTH AMERICA   \n100702  2017     12  2017-12-30          370  CHINA MAINLAND          CH-ML   \n100701  2017     12  2017-12-30          190       AUSTRALIA           ESAP   \n100700  2017     12  2017-12-30          210       SINGAPORE           ESAP   \n100699  2017     12  2017-12-30          190       AUSTRALIA           ESAP   \n\n       code_resort         resort  sector_resort client_typo loyal_new  nbr_gm  \n100443        LAPC  LAKE PARADISE  SOUTH AMERICA      Adults     Loyal      20  \n100702        TOMC         TOMAMU  ASIA MOUNTAIN      Family       New       6  \n100701        TOMC         TOMAMU  ASIA MOUNTAIN      Family       New      49  \n100700        TOMC         TOMAMU  ASIA MOUNTAIN      Family       New      10  \n100699        TOMC         TOMAMU  ASIA MOUNTAIN      Adults       New       2  ",
      "text/html": "<div>\n<style scoped>\n    .dataframe tbody tr th:only-of-type {\n        vertical-align: middle;\n    }\n\n    .dataframe tbody tr th {\n        vertical-align: top;\n    }\n\n    .dataframe thead th {\n        text-align: right;\n    }\n</style>\n<table border=\"1\" class=\"dataframe\">\n  <thead>\n    <tr style=\"text-align: right;\">\n      <th></th>\n      <th>year</th>\n      <th>month</th>\n      <th>week_ref</th>\n      <th>code_market</th>\n      <th>market</th>\n      <th>business_unit</th>\n      <th>code_resort</th>\n      <th>resort</th>\n      <th>sector_resort</th>\n      <th>client_typo</th>\n      <th>loyal_new</th>\n      <th>nbr_gm</th>\n    </tr>\n  </thead>\n  <tbody>\n    <tr>\n      <th>100443</th>\n      <td>2017</td>\n      <td>12</td>\n      <td>2017-12-30</td>\n      <td>330</td>\n      <td>BRAZIL</td>\n      <td>SOUTH AMERICA</td>\n      <td>LAPC</td>\n      <td>LAKE PARADISE</td>\n      <td>SOUTH AMERICA</td>\n      <td>Adults</td>\n      <td>Loyal</td>\n      <td>20</td>\n    </tr>\n    <tr>\n      <th>100702</th>\n      <td>2017</td>\n      <td>12</td>\n      <td>2017-12-30</td>\n      <td>370</td>\n      <td>CHINA MAINLAND</td>\n      <td>CH-ML</td>\n      <td>TOMC</td>\n      <td>TOMAMU</td>\n      <td>ASIA MOUNTAIN</td>\n      <td>Family</td>\n      <td>New</td>\n      <td>6</td>\n    </tr>\n    <tr>\n      <th>100701</th>\n      <td>2017</td>\n      <td>12</td>\n      <td>2017-12-30</td>\n      <td>190</td>\n      <td>AUSTRALIA</td>\n      <td>ESAP</td>\n      <td>TOMC</td>\n      <td>TOMAMU</td>\n      <td>ASIA MOUNTAIN</td>\n      <td>Family</td>\n      <td>New</td>\n      <td>49</td>\n    </tr>\n    <tr>\n      <th>100700</th>\n      <td>2017</td>\n      <td>12</td>\n      <td>2017-12-30</td>\n      <td>210</td>\n      <td>SINGAPORE</td>\n      <td>ESAP</td>\n      <td>TOMC</td>\n      <td>TOMAMU</td>\n      <td>ASIA MOUNTAIN</td>\n      <td>Family</td>\n      <td>New</td>\n      <td>10</td>\n    </tr>\n    <tr>\n      <th>100699</th>\n      <td>2017</td>\n      <td>12</td>\n      <td>2017-12-30</td>\n      <td>190</td>\n      <td>AUSTRALIA</td>\n      <td>ESAP</td>\n      <td>TOMC</td>\n      <td>TOMAMU</td>\n      <td>ASIA MOUNTAIN</td>\n      <td>Adults</td>\n      <td>New</td>\n      <td>2</td>\n    </tr>\n  </tbody>\n</table>\n</div>"
     },
     "execution_count": 8,
     "metadata": {},
     "output_type": "execute_result"
    }
   ],
   "source": [
    "working_copy.head()"
   ],
   "metadata": {
    "colab": {
     "base_uri": "https://localhost:8080/",
     "height": 206
    },
    "id": "349cbb8bed3dde17",
    "outputId": "c5933ed3-9a31-4d2f-d305-77dda2245f96",
    "ExecuteTime": {
     "end_time": "2024-03-17T16:16:24.786485Z",
     "start_time": "2024-03-17T16:16:24.783973200Z"
    }
   },
   "id": "349cbb8bed3dde17"
  },
  {
   "cell_type": "markdown",
   "source": [
    "# Data Cleaning\n",
    "---\n",
    "1. Clean Duplicates and Missing Values\n",
    "2. Merge La Rosière\n",
    "3. Drop Closed Resorts\n"
   ],
   "metadata": {
    "collapsed": false,
    "id": "60ef68e1e5007c26"
   },
   "id": "60ef68e1e5007c26"
  },
  {
   "cell_type": "markdown",
   "source": [
    "### 1. Clean Duplicates and Missing Values\n",
    "---"
   ],
   "metadata": {
    "collapsed": false,
    "id": "5308444f79185aa0"
   },
   "id": "5308444f79185aa0"
  },
  {
   "cell_type": "code",
   "execution_count": 9,
   "outputs": [],
   "source": [
    "def duplicate_data(data):\n",
    "\n",
    "    duplicates_cells = data[data.duplicated].shape\n",
    "\n",
    "    return f\"Number of duplicates: {duplicates_cells[0]}\""
   ],
   "metadata": {
    "id": "1f8ff73df4eb1e62",
    "ExecuteTime": {
     "end_time": "2024-03-17T16:16:24.798970100Z",
     "start_time": "2024-03-17T16:16:24.786485Z"
    }
   },
   "id": "1f8ff73df4eb1e62"
  },
  {
   "cell_type": "markdown",
   "source": [
    "### No duplicates"
   ],
   "metadata": {
    "id": "PEye9_2L8GMs"
   },
   "id": "PEye9_2L8GMs"
  },
  {
   "cell_type": "code",
   "execution_count": 10,
   "outputs": [],
   "source": [
    "def missing_values(data):\n",
    "\n",
    "    missing_cells = data.isna().sum().sum()\n",
    "\n",
    "    return f\"Missing values: {missing_cells:.2f}\"\n"
   ],
   "metadata": {
    "id": "34c936466061b55",
    "ExecuteTime": {
     "end_time": "2024-03-17T16:16:24.802246800Z",
     "start_time": "2024-03-17T16:16:24.794584800Z"
    }
   },
   "id": "34c936466061b55"
  },
  {
   "cell_type": "code",
   "execution_count": 11,
   "outputs": [
    {
     "data": {
      "text/plain": "'Number of duplicates: 0'"
     },
     "execution_count": 11,
     "metadata": {},
     "output_type": "execute_result"
    }
   ],
   "source": [
    "duplicate_data(working_copy)"
   ],
   "metadata": {
    "colab": {
     "base_uri": "https://localhost:8080/",
     "height": 35
    },
    "id": "75078aab0686ca02",
    "outputId": "727f361d-ef4f-42d5-a930-421d25401cdb",
    "ExecuteTime": {
     "end_time": "2024-03-17T16:16:24.930722900Z",
     "start_time": "2024-03-17T16:16:24.797790800Z"
    }
   },
   "id": "75078aab0686ca02"
  },
  {
   "cell_type": "code",
   "execution_count": 12,
   "outputs": [
    {
     "data": {
      "text/plain": "'Missing values: 6.00'"
     },
     "execution_count": 12,
     "metadata": {},
     "output_type": "execute_result"
    }
   ],
   "source": [
    "missing_values(working_copy)"
   ],
   "metadata": {
    "colab": {
     "base_uri": "https://localhost:8080/",
     "height": 35
    },
    "id": "ca7a7a5e8d0a25bf",
    "outputId": "533a3000-0330-42fc-a6cf-7e4bc3262bca",
    "ExecuteTime": {
     "end_time": "2024-03-17T16:16:25.022429Z",
     "start_time": "2024-03-17T16:16:24.895106500Z"
    }
   },
   "id": "ca7a7a5e8d0a25bf"
  },
  {
   "cell_type": "code",
   "execution_count": 13,
   "outputs": [
    {
     "data": {
      "text/plain": "        year  month    week_ref  code_market  market  business_unit  \\\n166882  2018      3  2018-03-10           10  FRANCE            EAF   \n213205  2019      1  2019-01-12           80     USA  NORTH AMERICA   \n\n       code_resort resort sector_resort client_typo loyal_new  nbr_gm  \n166882         NaN    NaN           NaN      Adults     Loyal       2  \n213205         NaN    NaN           NaN      Adults       New       4  ",
      "text/html": "<div>\n<style scoped>\n    .dataframe tbody tr th:only-of-type {\n        vertical-align: middle;\n    }\n\n    .dataframe tbody tr th {\n        vertical-align: top;\n    }\n\n    .dataframe thead th {\n        text-align: right;\n    }\n</style>\n<table border=\"1\" class=\"dataframe\">\n  <thead>\n    <tr style=\"text-align: right;\">\n      <th></th>\n      <th>year</th>\n      <th>month</th>\n      <th>week_ref</th>\n      <th>code_market</th>\n      <th>market</th>\n      <th>business_unit</th>\n      <th>code_resort</th>\n      <th>resort</th>\n      <th>sector_resort</th>\n      <th>client_typo</th>\n      <th>loyal_new</th>\n      <th>nbr_gm</th>\n    </tr>\n  </thead>\n  <tbody>\n    <tr>\n      <th>166882</th>\n      <td>2018</td>\n      <td>3</td>\n      <td>2018-03-10</td>\n      <td>10</td>\n      <td>FRANCE</td>\n      <td>EAF</td>\n      <td>NaN</td>\n      <td>NaN</td>\n      <td>NaN</td>\n      <td>Adults</td>\n      <td>Loyal</td>\n      <td>2</td>\n    </tr>\n    <tr>\n      <th>213205</th>\n      <td>2019</td>\n      <td>1</td>\n      <td>2019-01-12</td>\n      <td>80</td>\n      <td>USA</td>\n      <td>NORTH AMERICA</td>\n      <td>NaN</td>\n      <td>NaN</td>\n      <td>NaN</td>\n      <td>Adults</td>\n      <td>New</td>\n      <td>4</td>\n    </tr>\n  </tbody>\n</table>\n</div>"
     },
     "execution_count": 13,
     "metadata": {},
     "output_type": "execute_result"
    }
   ],
   "source": [
    "df[df.isna().any(axis=1)]"
   ],
   "metadata": {
    "colab": {
     "base_uri": "https://localhost:8080/",
     "height": 112
    },
    "id": "e683f0f088ff5a8",
    "outputId": "9639e66a-513c-4a4d-e2e3-1f110c2f4874",
    "ExecuteTime": {
     "end_time": "2024-03-17T16:16:25.154233Z",
     "start_time": "2024-03-17T16:16:25.020431500Z"
    }
   },
   "id": "e683f0f088ff5a8"
  },
  {
   "cell_type": "code",
   "execution_count": 14,
   "outputs": [],
   "source": [
    "df.dropna(inplace=True)"
   ],
   "metadata": {
    "id": "81222ab04a0b1208",
    "ExecuteTime": {
     "end_time": "2024-03-17T16:16:25.296357800Z",
     "start_time": "2024-03-17T16:16:25.153163600Z"
    }
   },
   "id": "81222ab04a0b1208"
  },
  {
   "cell_type": "markdown",
   "source": [
    "### 6 missing values in 2 inputs, that do not seem to be linked. Deleted."
   ],
   "metadata": {
    "id": "udggS2Yn8KMH"
   },
   "id": "udggS2Yn8KMH"
  },
  {
   "cell_type": "code",
   "execution_count": 15,
   "outputs": [
    {
     "data": {
      "text/plain": "'Missing values: 0.00'"
     },
     "execution_count": 15,
     "metadata": {},
     "output_type": "execute_result"
    }
   ],
   "source": [
    "missing_values(df)"
   ],
   "metadata": {
    "colab": {
     "base_uri": "https://localhost:8080/",
     "height": 35
    },
    "id": "ae27d02131d3ef9d",
    "outputId": "1e123aed-9db8-4e16-c304-668ed9a53079",
    "ExecuteTime": {
     "end_time": "2024-03-17T16:16:25.424686400Z",
     "start_time": "2024-03-17T16:16:25.297925100Z"
    }
   },
   "id": "ae27d02131d3ef9d"
  },
  {
   "cell_type": "markdown",
   "source": [
    "### 2. Merge La Rosière\n",
    "---"
   ],
   "metadata": {
    "collapsed": false,
    "id": "70defe77b855fd7a"
   },
   "id": "70defe77b855fd7a"
  },
  {
   "cell_type": "markdown",
   "source": [
    "### Resort \"LA ROSIERE\" has 2 \"code_resort\" denominations, LROV & LROC. LROV minimal, no particular sense. LROV to be converted to LROC"
   ],
   "metadata": {
    "id": "AYgYKnMX8WbO"
   },
   "id": "AYgYKnMX8WbO"
  },
  {
   "cell_type": "code",
   "execution_count": 16,
   "outputs": [
    {
     "name": "stdout",
     "output_type": "stream",
     "text": [
      "Number of unique options in every column:\n",
      "year               7\n",
      "month             12\n",
      "week_ref         314\n",
      "code_market       50\n",
      "market            50\n",
      "business_unit      5\n",
      "code_resort       93\n",
      "resort            92\n",
      "sector_resort      9\n",
      "client_typo        2\n",
      "loyal_new          2\n",
      "nbr_gm           885\n",
      "dtype: int64\n"
     ]
    }
   ],
   "source": [
    "unique_options = working_copy.nunique()\n",
    "print(\"Number of unique options in every column:\")\n",
    "print(unique_options)"
   ],
   "metadata": {
    "colab": {
     "base_uri": "https://localhost:8080/"
    },
    "id": "868d6ad4584cd9ed",
    "outputId": "e5b05540-7a6b-4005-8436-db65a29cb297",
    "ExecuteTime": {
     "end_time": "2024-03-17T16:16:25.488525500Z",
     "start_time": "2024-03-17T16:16:25.423685900Z"
    }
   },
   "id": "868d6ad4584cd9ed"
  },
  {
   "cell_type": "code",
   "execution_count": 17,
   "outputs": [
    {
     "data": {
      "text/plain": "LROC    1418\nLROV      25\nName: code_resort, dtype: int64"
     },
     "execution_count": 17,
     "metadata": {},
     "output_type": "execute_result"
    }
   ],
   "source": [
    "working_copy[working_copy['resort']== \"LA ROSIERE\"].code_resort.value_counts()"
   ],
   "metadata": {
    "colab": {
     "base_uri": "https://localhost:8080/"
    },
    "id": "d035286baba1c106",
    "outputId": "195e82ff-7e97-47ab-e7c8-b2c2108ca2d2",
    "ExecuteTime": {
     "end_time": "2024-03-17T16:16:25.502421600Z",
     "start_time": "2024-03-17T16:16:25.488022300Z"
    }
   },
   "id": "d035286baba1c106"
  },
  {
   "cell_type": "code",
   "execution_count": 18,
   "outputs": [
    {
     "data": {
      "text/plain": "        year  month    week_ref  code_market          market business_unit  \\\n221142  2023     12  2023-12-16          130    SOUTH AFRICA           EAF   \n221143  2023     12  2023-12-16           70  UNITED KINGDOM           EAF   \n221144  2023     12  2023-12-16           10          FRANCE           EAF   \n221145  2023     12  2023-12-16           70  UNITED KINGDOM           EAF   \n221146  2023     12  2023-12-16          160          RUSSIA           EAF   \n\n       code_resort      resort    sector_resort client_typo loyal_new  nbr_gm  \n221142        LROV  LA ROSIERE  EUROPE MOUNTAIN      Family       New       4  \n221143        LROV  LA ROSIERE  EUROPE MOUNTAIN      Family       New      12  \n221144        LROV  LA ROSIERE  EUROPE MOUNTAIN      Family     Loyal       4  \n221145        LROV  LA ROSIERE  EUROPE MOUNTAIN      Family     Loyal       9  \n221146        LROV  LA ROSIERE  EUROPE MOUNTAIN      Family       New       7  ",
      "text/html": "<div>\n<style scoped>\n    .dataframe tbody tr th:only-of-type {\n        vertical-align: middle;\n    }\n\n    .dataframe tbody tr th {\n        vertical-align: top;\n    }\n\n    .dataframe thead th {\n        text-align: right;\n    }\n</style>\n<table border=\"1\" class=\"dataframe\">\n  <thead>\n    <tr style=\"text-align: right;\">\n      <th></th>\n      <th>year</th>\n      <th>month</th>\n      <th>week_ref</th>\n      <th>code_market</th>\n      <th>market</th>\n      <th>business_unit</th>\n      <th>code_resort</th>\n      <th>resort</th>\n      <th>sector_resort</th>\n      <th>client_typo</th>\n      <th>loyal_new</th>\n      <th>nbr_gm</th>\n    </tr>\n  </thead>\n  <tbody>\n    <tr>\n      <th>221142</th>\n      <td>2023</td>\n      <td>12</td>\n      <td>2023-12-16</td>\n      <td>130</td>\n      <td>SOUTH AFRICA</td>\n      <td>EAF</td>\n      <td>LROV</td>\n      <td>LA ROSIERE</td>\n      <td>EUROPE MOUNTAIN</td>\n      <td>Family</td>\n      <td>New</td>\n      <td>4</td>\n    </tr>\n    <tr>\n      <th>221143</th>\n      <td>2023</td>\n      <td>12</td>\n      <td>2023-12-16</td>\n      <td>70</td>\n      <td>UNITED KINGDOM</td>\n      <td>EAF</td>\n      <td>LROV</td>\n      <td>LA ROSIERE</td>\n      <td>EUROPE MOUNTAIN</td>\n      <td>Family</td>\n      <td>New</td>\n      <td>12</td>\n    </tr>\n    <tr>\n      <th>221144</th>\n      <td>2023</td>\n      <td>12</td>\n      <td>2023-12-16</td>\n      <td>10</td>\n      <td>FRANCE</td>\n      <td>EAF</td>\n      <td>LROV</td>\n      <td>LA ROSIERE</td>\n      <td>EUROPE MOUNTAIN</td>\n      <td>Family</td>\n      <td>Loyal</td>\n      <td>4</td>\n    </tr>\n    <tr>\n      <th>221145</th>\n      <td>2023</td>\n      <td>12</td>\n      <td>2023-12-16</td>\n      <td>70</td>\n      <td>UNITED KINGDOM</td>\n      <td>EAF</td>\n      <td>LROV</td>\n      <td>LA ROSIERE</td>\n      <td>EUROPE MOUNTAIN</td>\n      <td>Family</td>\n      <td>Loyal</td>\n      <td>9</td>\n    </tr>\n    <tr>\n      <th>221146</th>\n      <td>2023</td>\n      <td>12</td>\n      <td>2023-12-16</td>\n      <td>160</td>\n      <td>RUSSIA</td>\n      <td>EAF</td>\n      <td>LROV</td>\n      <td>LA ROSIERE</td>\n      <td>EUROPE MOUNTAIN</td>\n      <td>Family</td>\n      <td>New</td>\n      <td>7</td>\n    </tr>\n  </tbody>\n</table>\n</div>"
     },
     "execution_count": 18,
     "metadata": {},
     "output_type": "execute_result"
    }
   ],
   "source": [
    "working_copy[working_copy['code_resort']== \"LROV\"].head()"
   ],
   "metadata": {
    "colab": {
     "base_uri": "https://localhost:8080/",
     "height": 206
    },
    "id": "fa2a9ad16b10b9f5",
    "outputId": "3275ae1b-1e0c-4fba-b86a-fc5ea6b9fea8",
    "ExecuteTime": {
     "end_time": "2024-03-17T16:16:25.549237400Z",
     "start_time": "2024-03-17T16:16:25.503419Z"
    }
   },
   "id": "fa2a9ad16b10b9f5"
  },
  {
   "cell_type": "code",
   "execution_count": 19,
   "outputs": [],
   "source": [
    "working_copy['code_resort'] = working_copy['code_resort'].replace(\"LROV\", \"LROC\")"
   ],
   "metadata": {
    "id": "6aa93876a78c2f5",
    "ExecuteTime": {
     "end_time": "2024-03-17T16:16:25.550240500Z",
     "start_time": "2024-03-17T16:16:25.519264500Z"
    }
   },
   "id": "6aa93876a78c2f5"
  },
  {
   "cell_type": "code",
   "execution_count": 20,
   "outputs": [
    {
     "data": {
      "text/plain": "LROC    1443\nName: code_resort, dtype: int64"
     },
     "execution_count": 20,
     "metadata": {},
     "output_type": "execute_result"
    }
   ],
   "source": [
    "working_copy[working_copy['resort']== \"LA ROSIERE\"].code_resort.value_counts()"
   ],
   "metadata": {
    "colab": {
     "base_uri": "https://localhost:8080/"
    },
    "id": "27ec1b22db7ad790",
    "outputId": "d9e74fc8-4e48-4290-bb94-0b6f6930c716",
    "ExecuteTime": {
     "end_time": "2024-03-17T16:16:25.628843200Z",
     "start_time": "2024-03-17T16:16:25.535222100Z"
    }
   },
   "id": "27ec1b22db7ad790"
  },
  {
   "cell_type": "code",
   "execution_count": 21,
   "outputs": [
    {
     "data": {
      "text/plain": "'Number of duplicates: 1'"
     },
     "execution_count": 21,
     "metadata": {},
     "output_type": "execute_result"
    }
   ],
   "source": [
    "duplicate_data(working_copy)"
   ],
   "metadata": {
    "colab": {
     "base_uri": "https://localhost:8080/",
     "height": 35
    },
    "id": "d860a1ff86f8223d",
    "outputId": "6a3f2f2e-ed63-49a9-b1a2-cdda6af89be4",
    "ExecuteTime": {
     "end_time": "2024-03-17T16:16:25.674060700Z",
     "start_time": "2024-03-17T16:16:25.558743200Z"
    }
   },
   "id": "d860a1ff86f8223d"
  },
  {
   "cell_type": "code",
   "execution_count": 22,
   "outputs": [
    {
     "data": {
      "text/plain": "      year  month    week_ref  code_market market  business_unit code_resort  \\\n2218  2023     12  2023-12-23           80    USA  NORTH AMERICA        LROC   \n2170  2023     12  2023-12-23           80    USA  NORTH AMERICA        LROC   \n\n          resort    sector_resort client_typo loyal_new  nbr_gm  \n2218  LA ROSIERE  EUROPE MOUNTAIN      Family       New       3  \n2170  LA ROSIERE  EUROPE MOUNTAIN      Family       New       3  ",
      "text/html": "<div>\n<style scoped>\n    .dataframe tbody tr th:only-of-type {\n        vertical-align: middle;\n    }\n\n    .dataframe tbody tr th {\n        vertical-align: top;\n    }\n\n    .dataframe thead th {\n        text-align: right;\n    }\n</style>\n<table border=\"1\" class=\"dataframe\">\n  <thead>\n    <tr style=\"text-align: right;\">\n      <th></th>\n      <th>year</th>\n      <th>month</th>\n      <th>week_ref</th>\n      <th>code_market</th>\n      <th>market</th>\n      <th>business_unit</th>\n      <th>code_resort</th>\n      <th>resort</th>\n      <th>sector_resort</th>\n      <th>client_typo</th>\n      <th>loyal_new</th>\n      <th>nbr_gm</th>\n    </tr>\n  </thead>\n  <tbody>\n    <tr>\n      <th>2218</th>\n      <td>2023</td>\n      <td>12</td>\n      <td>2023-12-23</td>\n      <td>80</td>\n      <td>USA</td>\n      <td>NORTH AMERICA</td>\n      <td>LROC</td>\n      <td>LA ROSIERE</td>\n      <td>EUROPE MOUNTAIN</td>\n      <td>Family</td>\n      <td>New</td>\n      <td>3</td>\n    </tr>\n    <tr>\n      <th>2170</th>\n      <td>2023</td>\n      <td>12</td>\n      <td>2023-12-23</td>\n      <td>80</td>\n      <td>USA</td>\n      <td>NORTH AMERICA</td>\n      <td>LROC</td>\n      <td>LA ROSIERE</td>\n      <td>EUROPE MOUNTAIN</td>\n      <td>Family</td>\n      <td>New</td>\n      <td>3</td>\n    </tr>\n  </tbody>\n</table>\n</div>"
     },
     "execution_count": 22,
     "metadata": {},
     "output_type": "execute_result"
    }
   ],
   "source": [
    "duplicates = working_copy.duplicated(keep=False)\n",
    "\n",
    "duplicate_rows = working_copy[duplicates]\n",
    "duplicate_rows.head()"
   ],
   "metadata": {
    "colab": {
     "base_uri": "https://localhost:8080/",
     "height": 112
    },
    "id": "fcc4ee6204e6bd18",
    "outputId": "50e5f176-c579-4682-819d-2bbfe0376be0",
    "ExecuteTime": {
     "end_time": "2024-03-17T16:16:25.750026800Z",
     "start_time": "2024-03-17T16:16:25.651375700Z"
    }
   },
   "id": "fcc4ee6204e6bd18"
  },
  {
   "cell_type": "markdown",
   "source": [
    "### An LROC seems to have been recorded as a LROC also. Deleted"
   ],
   "metadata": {
    "id": "LihLeOHi8ssP"
   },
   "id": "LihLeOHi8ssP"
  },
  {
   "cell_type": "code",
   "execution_count": 23,
   "outputs": [],
   "source": [
    "group_columns = working_copy.columns.difference(['nbr_gm']).tolist()\n",
    "\n",
    "working_copy = working_copy.groupby(group_columns, as_index=False)['nbr_gm'].sum()\n"
   ],
   "metadata": {
    "id": "e69d05713acb3db",
    "ExecuteTime": {
     "end_time": "2024-03-17T16:16:25.968835300Z",
     "start_time": "2024-03-17T16:16:25.749027100Z"
    }
   },
   "id": "e69d05713acb3db"
  },
  {
   "cell_type": "code",
   "execution_count": 24,
   "outputs": [
    {
     "data": {
      "text/plain": "business_unit    object\nclient_typo      object\ncode_market       int64\ncode_resort      object\nloyal_new        object\nmarket           object\nmonth             int64\nresort           object\nsector_resort    object\nweek_ref         object\nyear              int64\nnbr_gm            int64\ndtype: object"
     },
     "execution_count": 24,
     "metadata": {},
     "output_type": "execute_result"
    }
   ],
   "source": [
    "working_copy.dtypes"
   ],
   "metadata": {
    "collapsed": false,
    "ExecuteTime": {
     "end_time": "2024-03-17T16:16:25.976337100Z",
     "start_time": "2024-03-17T16:16:25.969835200Z"
    }
   },
   "id": "99bf75a7b408fd7c"
  },
  {
   "cell_type": "code",
   "execution_count": 25,
   "outputs": [
    {
     "data": {
      "text/plain": "        business_unit client_typo  code_market code_resort loyal_new market  \\\n201772  NORTH AMERICA      Family           80        LROC       New    USA   \n\n        month      resort    sector_resort    week_ref  year  nbr_gm  \n201772     12  LA ROSIERE  EUROPE MOUNTAIN  2023-12-23  2023       6  ",
      "text/html": "<div>\n<style scoped>\n    .dataframe tbody tr th:only-of-type {\n        vertical-align: middle;\n    }\n\n    .dataframe tbody tr th {\n        vertical-align: top;\n    }\n\n    .dataframe thead th {\n        text-align: right;\n    }\n</style>\n<table border=\"1\" class=\"dataframe\">\n  <thead>\n    <tr style=\"text-align: right;\">\n      <th></th>\n      <th>business_unit</th>\n      <th>client_typo</th>\n      <th>code_market</th>\n      <th>code_resort</th>\n      <th>loyal_new</th>\n      <th>market</th>\n      <th>month</th>\n      <th>resort</th>\n      <th>sector_resort</th>\n      <th>week_ref</th>\n      <th>year</th>\n      <th>nbr_gm</th>\n    </tr>\n  </thead>\n  <tbody>\n    <tr>\n      <th>201772</th>\n      <td>NORTH AMERICA</td>\n      <td>Family</td>\n      <td>80</td>\n      <td>LROC</td>\n      <td>New</td>\n      <td>USA</td>\n      <td>12</td>\n      <td>LA ROSIERE</td>\n      <td>EUROPE MOUNTAIN</td>\n      <td>2023-12-23</td>\n      <td>2023</td>\n      <td>6</td>\n    </tr>\n  </tbody>\n</table>\n</div>"
     },
     "execution_count": 25,
     "metadata": {},
     "output_type": "execute_result"
    }
   ],
   "source": [
    "working_copy[(working_copy['market'] == 'USA') &\n",
    "             (working_copy['code_resort'] == 'LROC') &\n",
    "             (working_copy['client_typo'] == 'Family') &\n",
    "             (working_copy['loyal_new'] == 'New') &\n",
    "             (working_copy['week_ref']==\"2023-12-23\")]\n"
   ],
   "metadata": {
    "collapsed": false,
    "ExecuteTime": {
     "end_time": "2024-03-17T16:16:26.040739400Z",
     "start_time": "2024-03-17T16:16:25.975335Z"
    }
   },
   "id": "e19d63345f526350"
  },
  {
   "cell_type": "code",
   "execution_count": 26,
   "outputs": [
    {
     "data": {
      "text/plain": "'Number of duplicates: 0'"
     },
     "execution_count": 26,
     "metadata": {},
     "output_type": "execute_result"
    }
   ],
   "source": [
    "duplicate_data(working_copy)"
   ],
   "metadata": {
    "colab": {
     "base_uri": "https://localhost:8080/",
     "height": 35
    },
    "id": "5b65a5f5c9a60a07",
    "outputId": "3b314859-951c-4d2b-9189-6eaa5991df11",
    "ExecuteTime": {
     "end_time": "2024-03-17T16:16:26.146711300Z",
     "start_time": "2024-03-17T16:16:26.039739100Z"
    }
   },
   "id": "5b65a5f5c9a60a07"
  },
  {
   "cell_type": "code",
   "execution_count": 27,
   "outputs": [
    {
     "data": {
      "text/plain": "  business_unit client_typo  code_market code_resort loyal_new  \\\n0         CH-ML      Adults          370        AEXC       New   \n1         CH-ML      Adults          370        AEXC       New   \n2         CH-ML      Adults          370        ALBC     Loyal   \n3         CH-ML      Adults          370        ALBC     Loyal   \n4         CH-ML      Adults          370        ALBC     Loyal   \n\n           market  month        resort                    sector_resort  \\\n0  CHINA MAINLAND     12  ARCS EXTREME                  EUROPE MOUNTAIN   \n1  CHINA MAINLAND     12  ARCS EXTREME                  EUROPE MOUNTAIN   \n2  CHINA MAINLAND      1        ALBION  EUROPE AFRICA SEA & COUNTRYSIDE   \n3  CHINA MAINLAND      1        ALBION  EUROPE AFRICA SEA & COUNTRYSIDE   \n4  CHINA MAINLAND      1        ALBION  EUROPE AFRICA SEA & COUNTRYSIDE   \n\n     week_ref  year  nbr_gm  \n0  2018-12-15  2018       2  \n1  2019-12-14  2019       1  \n2  2018-01-27  2018       9  \n3  2019-01-26  2019       6  \n4  2020-01-04  2020       2  ",
      "text/html": "<div>\n<style scoped>\n    .dataframe tbody tr th:only-of-type {\n        vertical-align: middle;\n    }\n\n    .dataframe tbody tr th {\n        vertical-align: top;\n    }\n\n    .dataframe thead th {\n        text-align: right;\n    }\n</style>\n<table border=\"1\" class=\"dataframe\">\n  <thead>\n    <tr style=\"text-align: right;\">\n      <th></th>\n      <th>business_unit</th>\n      <th>client_typo</th>\n      <th>code_market</th>\n      <th>code_resort</th>\n      <th>loyal_new</th>\n      <th>market</th>\n      <th>month</th>\n      <th>resort</th>\n      <th>sector_resort</th>\n      <th>week_ref</th>\n      <th>year</th>\n      <th>nbr_gm</th>\n    </tr>\n  </thead>\n  <tbody>\n    <tr>\n      <th>0</th>\n      <td>CH-ML</td>\n      <td>Adults</td>\n      <td>370</td>\n      <td>AEXC</td>\n      <td>New</td>\n      <td>CHINA MAINLAND</td>\n      <td>12</td>\n      <td>ARCS EXTREME</td>\n      <td>EUROPE MOUNTAIN</td>\n      <td>2018-12-15</td>\n      <td>2018</td>\n      <td>2</td>\n    </tr>\n    <tr>\n      <th>1</th>\n      <td>CH-ML</td>\n      <td>Adults</td>\n      <td>370</td>\n      <td>AEXC</td>\n      <td>New</td>\n      <td>CHINA MAINLAND</td>\n      <td>12</td>\n      <td>ARCS EXTREME</td>\n      <td>EUROPE MOUNTAIN</td>\n      <td>2019-12-14</td>\n      <td>2019</td>\n      <td>1</td>\n    </tr>\n    <tr>\n      <th>2</th>\n      <td>CH-ML</td>\n      <td>Adults</td>\n      <td>370</td>\n      <td>ALBC</td>\n      <td>Loyal</td>\n      <td>CHINA MAINLAND</td>\n      <td>1</td>\n      <td>ALBION</td>\n      <td>EUROPE AFRICA SEA &amp; COUNTRYSIDE</td>\n      <td>2018-01-27</td>\n      <td>2018</td>\n      <td>9</td>\n    </tr>\n    <tr>\n      <th>3</th>\n      <td>CH-ML</td>\n      <td>Adults</td>\n      <td>370</td>\n      <td>ALBC</td>\n      <td>Loyal</td>\n      <td>CHINA MAINLAND</td>\n      <td>1</td>\n      <td>ALBION</td>\n      <td>EUROPE AFRICA SEA &amp; COUNTRYSIDE</td>\n      <td>2019-01-26</td>\n      <td>2019</td>\n      <td>6</td>\n    </tr>\n    <tr>\n      <th>4</th>\n      <td>CH-ML</td>\n      <td>Adults</td>\n      <td>370</td>\n      <td>ALBC</td>\n      <td>Loyal</td>\n      <td>CHINA MAINLAND</td>\n      <td>1</td>\n      <td>ALBION</td>\n      <td>EUROPE AFRICA SEA &amp; COUNTRYSIDE</td>\n      <td>2020-01-04</td>\n      <td>2020</td>\n      <td>2</td>\n    </tr>\n  </tbody>\n</table>\n</div>"
     },
     "execution_count": 27,
     "metadata": {},
     "output_type": "execute_result"
    }
   ],
   "source": [
    "working_copy.head()"
   ],
   "metadata": {
    "colab": {
     "base_uri": "https://localhost:8080/",
     "height": 206
    },
    "id": "d1b870d33ff65192",
    "outputId": "00152888-74c9-4eb7-cb1e-790b64ae10ee",
    "ExecuteTime": {
     "end_time": "2024-03-17T16:16:26.148226400Z",
     "start_time": "2024-03-17T16:16:26.126289200Z"
    }
   },
   "id": "d1b870d33ff65192"
  },
  {
   "cell_type": "markdown",
   "source": [
    "### 3. Drop Closed Resorts\n",
    "---"
   ],
   "metadata": {
    "collapsed": false,
    "id": "126cfd9a44035866"
   },
   "id": "126cfd9a44035866"
  },
  {
   "cell_type": "markdown",
   "source": [],
   "metadata": {
    "id": "pFMAh9_m825I"
   },
   "id": "pFMAh9_m825I"
  },
  {
   "cell_type": "code",
   "execution_count": 28,
   "outputs": [
    {
     "name": "stdout",
     "output_type": "stream",
     "text": [
      "Resort: AGADIR - Years: 2019, 2018, 2020, 2017\n",
      "Resort: AIME LA PLAGNE - Years: 2018, 2019, 2020, 2017\n",
      "Resort: ALBION - Years: 2018, 2019, 2020, 2023, 2017, 2022, 2021\n",
      "Resort: ALPE D'HUEZ - Years: 2023, 2022, 2020, 2021, 2019\n",
      "Resort: ALPE D'HUEZ LA SARENNE - Years: 2018, 2019, 2017\n",
      "Resort: ANJI - Years: 2018, 2020, 2022, 2023, 2019, 2021\n",
      "Resort: ARCS EXTREME - Years: 2018, 2019, 2020, 2022, 2023, 2017, 2021\n",
      "Resort: ARCS PANORAMA - Years: 2019, 2023, 2022, 2021, 2018, 2020\n",
      "Resort: AVORIAZ - Years: 2018, 2017\n",
      "Resort: BALI - Years: 2018, 2019, 2020, 2023, 2022, 2017\n",
      "Resort: BEIDAHU - Years: 2018, 2019, 2020, 2021, 2022, 2023, 2017\n",
      "Resort: BINTAN ISLAND - Years: 2018, 2019, 2020, 2023, 2022, 2017\n",
      "Resort: BODRUM PALMIYE - Years: 2023, 2019, 2022, 2018, 2021\n",
      "Resort: CANCUN - Years: 2018, 2022, 2019, 2020, 2021, 2023, 2017\n",
      "Resort: CAP SKIRRING - Years: 2018, 2019, 2020, 2022, 2023, 2017, 2021\n",
      "Resort: CARGESE - Years: 2019, 2018\n",
      "Resort: CEFALU - Years: 2023, 2022, 2019, 2018, 2021, 2020\n",
      "Resort: CERVINIA - Years: 2018, 2019, 2020, 2017\n",
      "Resort: CHAMONIX MONT BLANC - Years: 2018, 2017\n",
      "Resort: CHANGBAISHAN - Years: 2022, 2023\n",
      "Resort: CHERATING BEACH - Years: 2018, 2019, 2020, 2023, 2017, 2022, 2021\n",
      "Resort: CLUB MED TWO - Years: 2018, 2019, 2020, 2022, 2023, 2021, 2017\n",
      "Resort: COLUMBUS ISLE - Years: 2018, 2019, 2020, 2023, 2022, 2017\n",
      "Resort: DA BALAIA - Years: 2022, 2018, 2019, 2020, 2023, 2021\n",
      "Resort: DJERBA LA DOUCE - Years: 2023, 2018, 2019, 2022, 2021\n",
      "Resort: GOLDEN COAST - Years: 2018, 2019, 2020, 2022, 2023, 2021\n",
      "Resort: GRAND MASSIF SAMOENS - Years: 2018, 2019, 2022, 2020, 2023, 2021, 2017\n",
      "Resort: GREGOLIMANO - Years: 2018, 2019, 2023, 2022, 2021, 2020\n",
      "Resort: GUILIN - Years: 2018, 2019, 2020, 2021, 2022, 2023, 2017\n",
      "Resort: ITAPARICA - Years: 2018, 2019, 2017\n",
      "Resort: IXTAPA - Years: 2018, 2019, 2020, 2022, 2023, 2021, 2017\n",
      "Resort: KABIRA - Years: 2018, 2019, 2020, 2021, 2023, 2017, 2022\n",
      "Resort: KAMARINA - Years: 2019, 2020, 2018, 2022, 2021\n",
      "Resort: KAMARINA HOTEL - Years: 2018, 2019, 2021, 2022, 2020\n",
      "Resort: KANIFINOLHU - Years: 2018, 2019, 2020, 2023, 2022, 2017, 2021\n",
      "Resort: KEMER - Years: 2018, 2019\n",
      "Resort: KIRORO GRAND - Years: 2023\n",
      "Resort: KIRORO PEAK - Years: 2023, 2022\n",
      "Resort: LA CARAVELLE - Years: 2018, 2019, 2020, 2021, 2022, 2023, 2017\n",
      "Resort: LA PALMYRE ATLANTIQUE - Years: 2021, 2022, 2018, 2019, 2023, 2020\n",
      "Resort: LA PLAGNE 2100 - Years: 2019, 2022, 2023, 2018, 2020, 2017, 2021\n",
      "Resort: LA POINTE AUX CANONNIERS - Years: 2019, 2018, 2022, 2023, 2020, 2021, 2017\n",
      "Resort: LA ROSIERE - Years: 2023, 2021, 2022\n",
      "Resort: LAKE PARADISE - Years: 2023, 2018, 2019, 2020, 2022, 2021, 2017\n",
      "Resort: LES BOUCANIERS - Years: 2018, 2019, 2020, 2022, 2023, 2021, 2017\n",
      "Resort: LES CHALETS DE GRAND MASSIF SAMOENS - Years: 2020, 2022, 2023, 2021, 2019\n",
      "Resort: LES DEUX ALPES - Years: 2018, 2017\n",
      "Resort: LES VILLAS D'ALBION - Years: 2019, 2018, 2023, 2022, 2020, 2021, 2017\n",
      "Resort: LES VILLAS DE FINOLHU - Years: 2018, 2020, 2019, 2023, 2022, 2021, 2017\n",
      "Resort: LIJIANG - Years: 2022, 2023, 2021\n",
      "Resort: MAGNA MARBELLA - Years: 2023, 2022\n",
      "Resort: MARRAKECH LA PALMERAIE - Years: 2020, 2018, 2019, 2022, 2021, 2023, 2017\n",
      "Resort: MERIBEL L'ANTARES - Years: 2018, 2019, 2017\n",
      "Resort: MERIBEL LE CHALET - Years: 2018, 2019\n",
      "Resort: MICHES PLAYA ESMERALDA - Years: 2020, 2021, 2022, 2023, 2019\n",
      "Resort: NAPITIA - Years: 2018\n",
      "Resort: OPIO - Years: 2019, 2018, 2023, 2020, 2022, 2021, 2017\n",
      "Resort: PALMIYE - Years: 2022, 2018, 2019, 2021, 2023, 2020\n",
      "Resort: PALMIYE HOTEL - Years: 2018, 2022, 2019, 2023, 2021, 2020\n",
      "Resort: PEISEY VALLANDRY - Years: 2022, 2023, 2020, 2018, 2019, 2021, 2017\n",
      "Resort: PHUKET - Years: 2018, 2019, 2020, 2023, 2022, 2017\n",
      "Resort: PRAGELATO SESTRIERE - Years: 2018, 2020, 2019, 2022, 2023, 2021, 2017\n",
      "Resort: PUNTA CANA - Years: 2018, 2023, 2019, 2020, 2021, 2022, 2017\n",
      "Resort: QUEBEC CHARLEVOIX - Years: 2023, 2022, 2021\n",
      "Resort: RIO DAS PEDRAS - Years: 2018, 2022, 2019, 2020, 2021, 2023, 2017\n",
      "Resort: SAHORO - Years: 2018, 2019, 2020, 2023, 2017, 2022, 2021\n",
      "Resort: SAINT MORITZ ROI SOLEIL - Years: 2019, 2020, 2018, 2023, 2022, 2021, 2017\n",
      "Resort: SANDPIPER - Years: 2018, 2020, 2019, 2021, 2022, 2017\n",
      "Resort: SANT'AMBROGGIO - Years: 2018, 2019, 2020\n",
      "Resort: SANYA - Years: 2018, 2019, 2020, 2021, 2022, 2017\n",
      "Resort: SERRE CHEVALIER - Years: 2022, 2023, 2018, 2019, 2020, 2021, 2017\n",
      "Resort: SEYCHELLES - Years: 2023, 2022, 2021\n",
      "Resort: TAICANG - Years: 2023\n",
      "Resort: THOUSAND ISLAND - Years: 2023, 2022\n",
      "Resort: TIGNES - Years: 2023, 2022\n",
      "Resort: TIGNES VAL CLARET - Years: 2018, 2019, 2020\n",
      "Resort: TOMAMU - Years: 2018, 2019, 2020, 2023, 2021, 2022, 2017\n",
      "Resort: TRANCOSO - Years: 2019, 2022, 2023, 2018, 2021, 2020, 2017\n",
      "Resort: TURKOISE - Years: 2019, 2020, 2022, 2023, 2018, 2021\n",
      "Resort: VAL D ISERE - Years: 2023, 2022\n",
      "Resort: VAL D ISERE 4T - Years: 2018, 2019, 2020, 2022, 2021, 2017\n",
      "Resort: VAL THORENS SENSATIONS - Years: 2020, 2019, 2023, 2018, 2021, 2022, 2017\n",
      "Resort: VALMOREL - Years: 2019, 2020, 2018, 2023, 2022, 2021, 2017\n",
      "Resort: VALMOREL CHALETS - Years: 2020, 2019, 2022, 2018, 2023, 2021, 2017\n",
      "Resort: VILLARS SUR OLLON - Years: 2018, 2017\n",
      "Resort: VITTEL ERMITAGE - Years: 2019, 2018, 2021, 2022, 2023, 2020\n",
      "Resort: VITTEL LE PARC - Years: 2018, 2019, 2021, 2020\n",
      "Resort: XIANLIN - Years: 2023\n",
      "Resort: YABULI - Years: 2018, 2019, 2020, 2021, 2022, 2023, 2017\n",
      "Resort: YANQING - Years: 2020, 2021, 2022, 2023, 2019\n",
      "Resort: YANQING LIJING - Years: 2023, 2022\n",
      "Resort: YASMINA - Years: 2022, 2023, 2018, 2019, 2021\n"
     ]
    }
   ],
   "source": [
    "def get_years_for_each_resort(df):\n",
    "    # Ensure 'year' is an integer\n",
    "    df['year'] = df['year'].astype(int)\n",
    "\n",
    "    # Group by resort and get unique years\n",
    "    grouped = df.groupby('resort')['year'].unique()\n",
    "\n",
    "    # Convert the Series to a dictionary\n",
    "    resort_years_dict = grouped.to_dict()\n",
    "\n",
    "    # Optionally, convert numpy arrays to lists\n",
    "    resort_years_dict = {resort: years.tolist() for resort, years in resort_years_dict.items()}\n",
    "\n",
    "    return resort_years_dict\n",
    "\n",
    "def print_resort_years(resort_years_dict):\n",
    "    for resort, years in resort_years_dict.items():\n",
    "        years_str = \", \".join(map(str, years))\n",
    "        print(f\"Resort: {resort} - Years: {years_str}\")\n",
    "\n",
    "print_resort_years(get_years_for_each_resort(working_copy))"
   ],
   "metadata": {
    "colab": {
     "base_uri": "https://localhost:8080/"
    },
    "id": "f1941359b9b1d4ff",
    "outputId": "6b49dd1d-cc72-4f30-b5b4-9c2ce5dbb91d",
    "ExecuteTime": {
     "end_time": "2024-03-17T16:16:26.181858600Z",
     "start_time": "2024-03-17T16:16:26.130167100Z"
    }
   },
   "id": "f1941359b9b1d4ff"
  },
  {
   "cell_type": "code",
   "execution_count": 29,
   "outputs": [
    {
     "name": "stdout",
     "output_type": "stream",
     "text": [
      "Closed Resorts: Index(['AGAC', 'AHSC', 'APLC', 'AVOC', 'CERC', 'CHAC', 'CRGC', 'DALC', 'ITAC',\n",
      "       'KAHC', 'KAMC', 'KEMC', 'MANC', 'MCHC', 'NAPC', 'SAMC', 'SANC', 'SAYC',\n",
      "       'TVCC', 'VISC', 'VLPC', 'VSOC'],\n",
      "      dtype='object', name='code_resort')\n",
      "\n",
      "Number of Open Resorts: 70 \n",
      "\n",
      "Number of Closed Resorts: 22 \n"
     ]
    }
   ],
   "source": [
    "def drop_closed_resorts(df, recent_years=1):\n",
    "    # Ensure 'year' is an integer\n",
    "    df['year'] = df['year'].astype(int)\n",
    "\n",
    "    # Determine the cutoff year - resorts must have data after this year to be considered open\n",
    "    cutoff_year = df['year'].max() - recent_years\n",
    "\n",
    "    # Group by resort and find the max year of data for each resort\n",
    "    latest_year_per_resort = df.groupby('code_resort')['year'].max()\n",
    "\n",
    "    # Identify resorts considered open\n",
    "    open_resorts = latest_year_per_resort[latest_year_per_resort > cutoff_year].index\n",
    "    closed_resorts = latest_year_per_resort[latest_year_per_resort <=  cutoff_year].index\n",
    "\n",
    "    # Filter the dataframe to keep only open resorts\n",
    "    filtered_df = df[df['code_resort'].isin(open_resorts)]\n",
    "\n",
    "    return filtered_df, open_resorts , closed_resorts, len(open_resorts), len(closed_resorts)\n",
    "\n",
    "\n",
    "filtered_df, open_resorts ,closed_resorts,nbr_open, nbr_closed= drop_closed_resorts(working_copy, recent_years=1)\n",
    "print(f\"Closed Resorts: {closed_resorts}\\n\")\n",
    "print(f\"Number of Open Resorts: {nbr_open} \\n\")\n",
    "print(f\"Number of Closed Resorts: {nbr_closed} \\n\")"
   ],
   "metadata": {
    "colab": {
     "base_uri": "https://localhost:8080/"
    },
    "id": "dc1e361117f710b0",
    "outputId": "41ac6aa2-ed19-47d1-9fbb-d3bae29c3458",
    "ExecuteTime": {
     "end_time": "2024-03-17T16:16:26.233686100Z",
     "start_time": "2024-03-17T16:16:26.157808100Z"
    }
   },
   "id": "dc1e361117f710b0"
  },
  {
   "cell_type": "markdown",
   "source": [
    "### Decision to keep resorts only that contain records for the year 2022. 22 resorts laid off. 70 kept."
   ],
   "metadata": {
    "id": "1GF3uny79TpC"
   },
   "id": "1GF3uny79TpC"
  },
  {
   "cell_type": "code",
   "execution_count": 30,
   "outputs": [
    {
     "name": "stdout",
     "output_type": "stream",
     "text": [
      "Resort: ALBION - Years: 2018, 2019, 2020, 2023, 2017, 2022, 2021\n",
      "Resort: ALPE D'HUEZ - Years: 2023, 2022, 2020, 2021, 2019\n",
      "Resort: ANJI - Years: 2018, 2020, 2022, 2023, 2019, 2021\n",
      "Resort: ARCS EXTREME - Years: 2018, 2019, 2020, 2022, 2023, 2017, 2021\n",
      "Resort: ARCS PANORAMA - Years: 2019, 2023, 2022, 2021, 2018, 2020\n",
      "Resort: BALI - Years: 2018, 2019, 2020, 2023, 2022, 2017\n",
      "Resort: BEIDAHU - Years: 2018, 2019, 2020, 2021, 2022, 2023, 2017\n",
      "Resort: BINTAN ISLAND - Years: 2018, 2019, 2020, 2023, 2022, 2017\n",
      "Resort: BODRUM PALMIYE - Years: 2023, 2019, 2022, 2018, 2021\n",
      "Resort: CANCUN - Years: 2018, 2022, 2019, 2020, 2021, 2023, 2017\n",
      "Resort: CAP SKIRRING - Years: 2018, 2019, 2020, 2022, 2023, 2017, 2021\n",
      "Resort: CEFALU - Years: 2023, 2022, 2019, 2018, 2021, 2020\n",
      "Resort: CHANGBAISHAN - Years: 2022, 2023\n",
      "Resort: CHERATING BEACH - Years: 2018, 2019, 2020, 2023, 2017, 2022, 2021\n",
      "Resort: CLUB MED TWO - Years: 2018, 2019, 2020, 2022, 2023, 2021, 2017\n",
      "Resort: COLUMBUS ISLE - Years: 2018, 2019, 2020, 2023, 2022, 2017\n",
      "Resort: DA BALAIA - Years: 2022, 2018, 2019, 2020, 2023, 2021\n",
      "Resort: DJERBA LA DOUCE - Years: 2023, 2018, 2019, 2022, 2021\n",
      "Resort: GOLDEN COAST - Years: 2018, 2019, 2020, 2022, 2023, 2021\n",
      "Resort: GRAND MASSIF SAMOENS - Years: 2018, 2019, 2022, 2020, 2023, 2021, 2017\n",
      "Resort: GREGOLIMANO - Years: 2018, 2019, 2023, 2022, 2021, 2020\n",
      "Resort: GUILIN - Years: 2018, 2019, 2020, 2021, 2022, 2023, 2017\n",
      "Resort: IXTAPA - Years: 2018, 2019, 2020, 2022, 2023, 2021, 2017\n",
      "Resort: KABIRA - Years: 2018, 2019, 2020, 2021, 2023, 2017, 2022\n",
      "Resort: KANIFINOLHU - Years: 2018, 2019, 2020, 2023, 2022, 2017, 2021\n",
      "Resort: KIRORO GRAND - Years: 2023\n",
      "Resort: KIRORO PEAK - Years: 2023, 2022\n",
      "Resort: LA CARAVELLE - Years: 2018, 2019, 2020, 2021, 2022, 2023, 2017\n",
      "Resort: LA PALMYRE ATLANTIQUE - Years: 2021, 2022, 2018, 2019, 2023, 2020\n",
      "Resort: LA PLAGNE 2100 - Years: 2019, 2022, 2023, 2018, 2020, 2017, 2021\n",
      "Resort: LA POINTE AUX CANONNIERS - Years: 2019, 2018, 2022, 2023, 2020, 2021, 2017\n",
      "Resort: LA ROSIERE - Years: 2023, 2021, 2022\n",
      "Resort: LAKE PARADISE - Years: 2023, 2018, 2019, 2020, 2022, 2021, 2017\n",
      "Resort: LES BOUCANIERS - Years: 2018, 2019, 2020, 2022, 2023, 2021, 2017\n",
      "Resort: LES CHALETS DE GRAND MASSIF SAMOENS - Years: 2020, 2022, 2023, 2021, 2019\n",
      "Resort: LES VILLAS D'ALBION - Years: 2019, 2018, 2023, 2022, 2020, 2021, 2017\n",
      "Resort: LES VILLAS DE FINOLHU - Years: 2018, 2020, 2019, 2023, 2022, 2021, 2017\n",
      "Resort: LIJIANG - Years: 2022, 2023, 2021\n",
      "Resort: MAGNA MARBELLA - Years: 2023, 2022\n",
      "Resort: MARRAKECH LA PALMERAIE - Years: 2020, 2018, 2019, 2022, 2021, 2023, 2017\n",
      "Resort: MICHES PLAYA ESMERALDA - Years: 2020, 2021, 2022, 2023, 2019\n",
      "Resort: OPIO - Years: 2019, 2018, 2023, 2020, 2022, 2021, 2017\n",
      "Resort: PALMIYE - Years: 2022, 2018, 2019, 2021, 2023, 2020\n",
      "Resort: PALMIYE HOTEL - Years: 2018, 2022, 2019, 2023, 2021, 2020\n",
      "Resort: PEISEY VALLANDRY - Years: 2022, 2023, 2020, 2018, 2019, 2021, 2017\n",
      "Resort: PHUKET - Years: 2018, 2019, 2020, 2023, 2022, 2017\n",
      "Resort: PRAGELATO SESTRIERE - Years: 2018, 2020, 2019, 2022, 2023, 2021, 2017\n",
      "Resort: PUNTA CANA - Years: 2018, 2023, 2019, 2020, 2021, 2022, 2017\n",
      "Resort: QUEBEC CHARLEVOIX - Years: 2023, 2022, 2021\n",
      "Resort: RIO DAS PEDRAS - Years: 2018, 2022, 2019, 2020, 2021, 2023, 2017\n",
      "Resort: SAHORO - Years: 2018, 2019, 2020, 2023, 2017, 2022, 2021\n",
      "Resort: SAINT MORITZ ROI SOLEIL - Years: 2019, 2020, 2018, 2023, 2022, 2021, 2017\n",
      "Resort: SERRE CHEVALIER - Years: 2022, 2023, 2018, 2019, 2020, 2021, 2017\n",
      "Resort: SEYCHELLES - Years: 2023, 2022, 2021\n",
      "Resort: TAICANG - Years: 2023\n",
      "Resort: THOUSAND ISLAND - Years: 2023, 2022\n",
      "Resort: TIGNES - Years: 2023, 2022\n",
      "Resort: TOMAMU - Years: 2018, 2019, 2020, 2023, 2021, 2022, 2017\n",
      "Resort: TRANCOSO - Years: 2019, 2022, 2023, 2018, 2021, 2020, 2017\n",
      "Resort: TURKOISE - Years: 2019, 2020, 2022, 2023, 2018, 2021\n",
      "Resort: VAL D ISERE - Years: 2023, 2022\n",
      "Resort: VAL THORENS SENSATIONS - Years: 2020, 2019, 2023, 2018, 2021, 2022, 2017\n",
      "Resort: VALMOREL - Years: 2019, 2020, 2018, 2023, 2022, 2021, 2017\n",
      "Resort: VALMOREL CHALETS - Years: 2020, 2019, 2022, 2018, 2023, 2021, 2017\n",
      "Resort: VITTEL ERMITAGE - Years: 2019, 2018, 2021, 2022, 2023, 2020\n",
      "Resort: XIANLIN - Years: 2023\n",
      "Resort: YABULI - Years: 2018, 2019, 2020, 2021, 2022, 2023, 2017\n",
      "Resort: YANQING - Years: 2020, 2021, 2022, 2023, 2019\n",
      "Resort: YANQING LIJING - Years: 2023, 2022\n",
      "Resort: YASMINA - Years: 2022, 2023, 2018, 2019, 2021\n"
     ]
    }
   ],
   "source": [
    "print_resort_years(get_years_for_each_resort(filtered_df))"
   ],
   "metadata": {
    "colab": {
     "base_uri": "https://localhost:8080/"
    },
    "id": "ec9b6061c8a2bd63",
    "outputId": "281bb397-9ea4-41ac-e05b-a0007d688586",
    "ExecuteTime": {
     "end_time": "2024-03-17T16:16:26.249889600Z",
     "start_time": "2024-03-17T16:16:26.185300600Z"
    }
   },
   "id": "ec9b6061c8a2bd63"
  },
  {
   "cell_type": "code",
   "execution_count": 31,
   "outputs": [
    {
     "name": "stdout",
     "output_type": "stream",
     "text": [
      "<class 'pandas.core.frame.DataFrame'>\n",
      "Int64Index: 200300 entries, 0 to 225399\n",
      "Data columns (total 12 columns):\n",
      " #   Column         Non-Null Count   Dtype \n",
      "---  ------         --------------   ----- \n",
      " 0   business_unit  200300 non-null  object\n",
      " 1   client_typo    200300 non-null  object\n",
      " 2   code_market    200300 non-null  int64 \n",
      " 3   code_resort    200300 non-null  object\n",
      " 4   loyal_new      200300 non-null  object\n",
      " 5   market         200300 non-null  object\n",
      " 6   month          200300 non-null  int64 \n",
      " 7   resort         200300 non-null  object\n",
      " 8   sector_resort  200300 non-null  object\n",
      " 9   week_ref       200300 non-null  object\n",
      " 10  year           200300 non-null  int32 \n",
      " 11  nbr_gm         200300 non-null  int64 \n",
      "dtypes: int32(1), int64(3), object(8)\n",
      "memory usage: 19.1+ MB\n"
     ]
    }
   ],
   "source": [
    "filtered_df.info()"
   ],
   "metadata": {
    "colab": {
     "base_uri": "https://localhost:8080/"
    },
    "id": "b04bb8174e8db5c7",
    "outputId": "33f479c6-cb00-4715-a58b-9b55329aac06",
    "ExecuteTime": {
     "end_time": "2024-03-17T16:16:26.365752300Z",
     "start_time": "2024-03-17T16:16:26.204232400Z"
    }
   },
   "id": "b04bb8174e8db5c7"
  },
  {
   "cell_type": "code",
   "execution_count": 32,
   "outputs": [],
   "source": [
    "filtered_df.to_csv(\"data/clean_dataset.csv\")"
   ],
   "metadata": {
    "collapsed": false,
    "ExecuteTime": {
     "end_time": "2024-03-17T16:16:26.856394600Z",
     "start_time": "2024-03-17T16:16:26.323836500Z"
    }
   },
   "id": "acc8e3a01ef43397"
  }
 ],
 "metadata": {
  "kernelspec": {
   "display_name": "Python 3",
   "language": "python",
   "name": "python3"
  },
  "language_info": {
   "codemirror_mode": {
    "name": "ipython",
    "version": 2
   },
   "file_extension": ".py",
   "mimetype": "text/x-python",
   "name": "python",
   "nbconvert_exporter": "python",
   "pygments_lexer": "ipython2",
   "version": "2.7.6"
  },
  "colab": {
   "provenance": []
  }
 },
 "nbformat": 4,
 "nbformat_minor": 5
}
