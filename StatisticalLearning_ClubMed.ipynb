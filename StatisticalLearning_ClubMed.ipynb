{
 "cells": [
  {
   "cell_type": "markdown",
   "source": [
    "### Time Series Forecasting - Statistical approach"
   ],
   "metadata": {
    "collapsed": false
   }
  },
  {
   "cell_type": "code",
   "execution_count": 129,
   "outputs": [],
   "source": [
    "# Import libraries\n",
    "import pandas as pd\n",
    "import matplotlib.pyplot as plt\n",
    "import numpy as np"
   ],
   "metadata": {
    "collapsed": false,
    "ExecuteTime": {
     "end_time": "2024-03-17T17:50:14.078700400Z",
     "start_time": "2024-03-17T17:50:13.891081700Z"
    }
   }
  },
  {
   "cell_type": "code",
   "execution_count": 130,
   "outputs": [],
   "source": [
    "# Import clean data set\n",
    "df = pd.read_csv(\"data/clean_dataset.csv\")"
   ],
   "metadata": {
    "collapsed": false,
    "ExecuteTime": {
     "end_time": "2024-03-17T17:50:14.425534300Z",
     "start_time": "2024-03-17T17:50:13.896069200Z"
    }
   }
  },
  {
   "cell_type": "code",
   "execution_count": 131,
   "outputs": [
    {
     "data": {
      "text/plain": "   Unnamed: 0 business_unit client_typo  code_market code_resort loyal_new  \\\n0           0         CH-ML      Adults          370        AEXC       New   \n1           1         CH-ML      Adults          370        AEXC       New   \n2           2         CH-ML      Adults          370        ALBC     Loyal   \n3           3         CH-ML      Adults          370        ALBC     Loyal   \n4           4         CH-ML      Adults          370        ALBC     Loyal   \n\n           market  month        resort                    sector_resort  \\\n0  CHINA MAINLAND     12  ARCS EXTREME                  EUROPE MOUNTAIN   \n1  CHINA MAINLAND     12  ARCS EXTREME                  EUROPE MOUNTAIN   \n2  CHINA MAINLAND      1        ALBION  EUROPE AFRICA SEA & COUNTRYSIDE   \n3  CHINA MAINLAND      1        ALBION  EUROPE AFRICA SEA & COUNTRYSIDE   \n4  CHINA MAINLAND      1        ALBION  EUROPE AFRICA SEA & COUNTRYSIDE   \n\n     week_ref  year  nbr_gm  \n0  2018-12-15  2018       2  \n1  2019-12-14  2019       1  \n2  2018-01-27  2018       9  \n3  2019-01-26  2019       6  \n4  2020-01-04  2020       2  ",
      "text/html": "<div>\n<style scoped>\n    .dataframe tbody tr th:only-of-type {\n        vertical-align: middle;\n    }\n\n    .dataframe tbody tr th {\n        vertical-align: top;\n    }\n\n    .dataframe thead th {\n        text-align: right;\n    }\n</style>\n<table border=\"1\" class=\"dataframe\">\n  <thead>\n    <tr style=\"text-align: right;\">\n      <th></th>\n      <th>Unnamed: 0</th>\n      <th>business_unit</th>\n      <th>client_typo</th>\n      <th>code_market</th>\n      <th>code_resort</th>\n      <th>loyal_new</th>\n      <th>market</th>\n      <th>month</th>\n      <th>resort</th>\n      <th>sector_resort</th>\n      <th>week_ref</th>\n      <th>year</th>\n      <th>nbr_gm</th>\n    </tr>\n  </thead>\n  <tbody>\n    <tr>\n      <th>0</th>\n      <td>0</td>\n      <td>CH-ML</td>\n      <td>Adults</td>\n      <td>370</td>\n      <td>AEXC</td>\n      <td>New</td>\n      <td>CHINA MAINLAND</td>\n      <td>12</td>\n      <td>ARCS EXTREME</td>\n      <td>EUROPE MOUNTAIN</td>\n      <td>2018-12-15</td>\n      <td>2018</td>\n      <td>2</td>\n    </tr>\n    <tr>\n      <th>1</th>\n      <td>1</td>\n      <td>CH-ML</td>\n      <td>Adults</td>\n      <td>370</td>\n      <td>AEXC</td>\n      <td>New</td>\n      <td>CHINA MAINLAND</td>\n      <td>12</td>\n      <td>ARCS EXTREME</td>\n      <td>EUROPE MOUNTAIN</td>\n      <td>2019-12-14</td>\n      <td>2019</td>\n      <td>1</td>\n    </tr>\n    <tr>\n      <th>2</th>\n      <td>2</td>\n      <td>CH-ML</td>\n      <td>Adults</td>\n      <td>370</td>\n      <td>ALBC</td>\n      <td>Loyal</td>\n      <td>CHINA MAINLAND</td>\n      <td>1</td>\n      <td>ALBION</td>\n      <td>EUROPE AFRICA SEA &amp; COUNTRYSIDE</td>\n      <td>2018-01-27</td>\n      <td>2018</td>\n      <td>9</td>\n    </tr>\n    <tr>\n      <th>3</th>\n      <td>3</td>\n      <td>CH-ML</td>\n      <td>Adults</td>\n      <td>370</td>\n      <td>ALBC</td>\n      <td>Loyal</td>\n      <td>CHINA MAINLAND</td>\n      <td>1</td>\n      <td>ALBION</td>\n      <td>EUROPE AFRICA SEA &amp; COUNTRYSIDE</td>\n      <td>2019-01-26</td>\n      <td>2019</td>\n      <td>6</td>\n    </tr>\n    <tr>\n      <th>4</th>\n      <td>4</td>\n      <td>CH-ML</td>\n      <td>Adults</td>\n      <td>370</td>\n      <td>ALBC</td>\n      <td>Loyal</td>\n      <td>CHINA MAINLAND</td>\n      <td>1</td>\n      <td>ALBION</td>\n      <td>EUROPE AFRICA SEA &amp; COUNTRYSIDE</td>\n      <td>2020-01-04</td>\n      <td>2020</td>\n      <td>2</td>\n    </tr>\n  </tbody>\n</table>\n</div>"
     },
     "execution_count": 131,
     "metadata": {},
     "output_type": "execute_result"
    }
   ],
   "source": [
    "df.head()"
   ],
   "metadata": {
    "collapsed": false,
    "ExecuteTime": {
     "end_time": "2024-03-17T17:50:14.428096500Z",
     "start_time": "2024-03-17T17:50:14.066758300Z"
    }
   }
  },
  {
   "cell_type": "code",
   "execution_count": 132,
   "outputs": [],
   "source": [
    "df_copy = df.copy()"
   ],
   "metadata": {
    "collapsed": false,
    "ExecuteTime": {
     "end_time": "2024-03-17T17:50:14.428096500Z",
     "start_time": "2024-03-17T17:50:14.074684500Z"
    }
   }
  },
  {
   "cell_type": "markdown",
   "source": [
    "## Feature engineering\n",
    "1. Perform date decomposition\n",
    "2. Create categorical variables & OHE\n",
    "3. Create Lag Features\n",
    "4. Rolling Mean\n",
    "5. Fourier Transformation"
   ],
   "metadata": {
    "collapsed": false
   }
  },
  {
   "cell_type": "code",
   "execution_count": 133,
   "outputs": [
    {
     "data": {
      "text/plain": "   Unnamed: 0 business_unit client_typo loyal_new          market  \\\n0           0         CH-ML      Adults       New  CHINA MAINLAND   \n1           1         CH-ML      Adults       New  CHINA MAINLAND   \n2           2         CH-ML      Adults     Loyal  CHINA MAINLAND   \n3           3         CH-ML      Adults     Loyal  CHINA MAINLAND   \n4           4         CH-ML      Adults     Loyal  CHINA MAINLAND   \n\n         resort                    sector_resort    week_ref  nbr_gm  \n0  ARCS EXTREME                  EUROPE MOUNTAIN  2018-12-15       2  \n1  ARCS EXTREME                  EUROPE MOUNTAIN  2019-12-14       1  \n2        ALBION  EUROPE AFRICA SEA & COUNTRYSIDE  2018-01-27       9  \n3        ALBION  EUROPE AFRICA SEA & COUNTRYSIDE  2019-01-26       6  \n4        ALBION  EUROPE AFRICA SEA & COUNTRYSIDE  2020-01-04       2  ",
      "text/html": "<div>\n<style scoped>\n    .dataframe tbody tr th:only-of-type {\n        vertical-align: middle;\n    }\n\n    .dataframe tbody tr th {\n        vertical-align: top;\n    }\n\n    .dataframe thead th {\n        text-align: right;\n    }\n</style>\n<table border=\"1\" class=\"dataframe\">\n  <thead>\n    <tr style=\"text-align: right;\">\n      <th></th>\n      <th>Unnamed: 0</th>\n      <th>business_unit</th>\n      <th>client_typo</th>\n      <th>loyal_new</th>\n      <th>market</th>\n      <th>resort</th>\n      <th>sector_resort</th>\n      <th>week_ref</th>\n      <th>nbr_gm</th>\n    </tr>\n  </thead>\n  <tbody>\n    <tr>\n      <th>0</th>\n      <td>0</td>\n      <td>CH-ML</td>\n      <td>Adults</td>\n      <td>New</td>\n      <td>CHINA MAINLAND</td>\n      <td>ARCS EXTREME</td>\n      <td>EUROPE MOUNTAIN</td>\n      <td>2018-12-15</td>\n      <td>2</td>\n    </tr>\n    <tr>\n      <th>1</th>\n      <td>1</td>\n      <td>CH-ML</td>\n      <td>Adults</td>\n      <td>New</td>\n      <td>CHINA MAINLAND</td>\n      <td>ARCS EXTREME</td>\n      <td>EUROPE MOUNTAIN</td>\n      <td>2019-12-14</td>\n      <td>1</td>\n    </tr>\n    <tr>\n      <th>2</th>\n      <td>2</td>\n      <td>CH-ML</td>\n      <td>Adults</td>\n      <td>Loyal</td>\n      <td>CHINA MAINLAND</td>\n      <td>ALBION</td>\n      <td>EUROPE AFRICA SEA &amp; COUNTRYSIDE</td>\n      <td>2018-01-27</td>\n      <td>9</td>\n    </tr>\n    <tr>\n      <th>3</th>\n      <td>3</td>\n      <td>CH-ML</td>\n      <td>Adults</td>\n      <td>Loyal</td>\n      <td>CHINA MAINLAND</td>\n      <td>ALBION</td>\n      <td>EUROPE AFRICA SEA &amp; COUNTRYSIDE</td>\n      <td>2019-01-26</td>\n      <td>6</td>\n    </tr>\n    <tr>\n      <th>4</th>\n      <td>4</td>\n      <td>CH-ML</td>\n      <td>Adults</td>\n      <td>Loyal</td>\n      <td>CHINA MAINLAND</td>\n      <td>ALBION</td>\n      <td>EUROPE AFRICA SEA &amp; COUNTRYSIDE</td>\n      <td>2020-01-04</td>\n      <td>2</td>\n    </tr>\n  </tbody>\n</table>\n</div>"
     },
     "execution_count": 133,
     "metadata": {},
     "output_type": "execute_result"
    }
   ],
   "source": [
    "# Drop month string column\n",
    "df_copy.drop(columns = ['code_market', 'code_resort','year', 'month'], inplace = True)\n",
    "df_copy.head()"
   ],
   "metadata": {
    "collapsed": false,
    "ExecuteTime": {
     "end_time": "2024-03-17T17:50:14.428096500Z",
     "start_time": "2024-03-17T17:50:14.088251200Z"
    }
   }
  },
  {
   "cell_type": "code",
   "execution_count": 134,
   "outputs": [
    {
     "data": {
      "text/plain": "   Unnamed: 0 business_unit client_typo loyal_new          market  \\\n0           0         CH-ML      Adults       New  CHINA MAINLAND   \n1           1         CH-ML      Adults       New  CHINA MAINLAND   \n2           2         CH-ML      Adults     Loyal  CHINA MAINLAND   \n3           3         CH-ML      Adults     Loyal  CHINA MAINLAND   \n4           4         CH-ML      Adults     Loyal  CHINA MAINLAND   \n\n         resort                    sector_resort    week_ref  nbr_gm  \n0  ARCS EXTREME                  EUROPE MOUNTAIN  2018-12-15       2  \n1  ARCS EXTREME                  EUROPE MOUNTAIN  2019-12-14       1  \n2        ALBION  EUROPE AFRICA SEA & COUNTRYSIDE  2018-01-27       9  \n3        ALBION  EUROPE AFRICA SEA & COUNTRYSIDE  2019-01-26       6  \n4        ALBION  EUROPE AFRICA SEA & COUNTRYSIDE  2020-01-04       2  ",
      "text/html": "<div>\n<style scoped>\n    .dataframe tbody tr th:only-of-type {\n        vertical-align: middle;\n    }\n\n    .dataframe tbody tr th {\n        vertical-align: top;\n    }\n\n    .dataframe thead th {\n        text-align: right;\n    }\n</style>\n<table border=\"1\" class=\"dataframe\">\n  <thead>\n    <tr style=\"text-align: right;\">\n      <th></th>\n      <th>Unnamed: 0</th>\n      <th>business_unit</th>\n      <th>client_typo</th>\n      <th>loyal_new</th>\n      <th>market</th>\n      <th>resort</th>\n      <th>sector_resort</th>\n      <th>week_ref</th>\n      <th>nbr_gm</th>\n    </tr>\n  </thead>\n  <tbody>\n    <tr>\n      <th>0</th>\n      <td>0</td>\n      <td>CH-ML</td>\n      <td>Adults</td>\n      <td>New</td>\n      <td>CHINA MAINLAND</td>\n      <td>ARCS EXTREME</td>\n      <td>EUROPE MOUNTAIN</td>\n      <td>2018-12-15</td>\n      <td>2</td>\n    </tr>\n    <tr>\n      <th>1</th>\n      <td>1</td>\n      <td>CH-ML</td>\n      <td>Adults</td>\n      <td>New</td>\n      <td>CHINA MAINLAND</td>\n      <td>ARCS EXTREME</td>\n      <td>EUROPE MOUNTAIN</td>\n      <td>2019-12-14</td>\n      <td>1</td>\n    </tr>\n    <tr>\n      <th>2</th>\n      <td>2</td>\n      <td>CH-ML</td>\n      <td>Adults</td>\n      <td>Loyal</td>\n      <td>CHINA MAINLAND</td>\n      <td>ALBION</td>\n      <td>EUROPE AFRICA SEA &amp; COUNTRYSIDE</td>\n      <td>2018-01-27</td>\n      <td>9</td>\n    </tr>\n    <tr>\n      <th>3</th>\n      <td>3</td>\n      <td>CH-ML</td>\n      <td>Adults</td>\n      <td>Loyal</td>\n      <td>CHINA MAINLAND</td>\n      <td>ALBION</td>\n      <td>EUROPE AFRICA SEA &amp; COUNTRYSIDE</td>\n      <td>2019-01-26</td>\n      <td>6</td>\n    </tr>\n    <tr>\n      <th>4</th>\n      <td>4</td>\n      <td>CH-ML</td>\n      <td>Adults</td>\n      <td>Loyal</td>\n      <td>CHINA MAINLAND</td>\n      <td>ALBION</td>\n      <td>EUROPE AFRICA SEA &amp; COUNTRYSIDE</td>\n      <td>2020-01-04</td>\n      <td>2</td>\n    </tr>\n  </tbody>\n</table>\n</div>"
     },
     "execution_count": 134,
     "metadata": {},
     "output_type": "execute_result"
    }
   ],
   "source": [
    "df_copy.head()"
   ],
   "metadata": {
    "collapsed": false,
    "ExecuteTime": {
     "end_time": "2024-03-17T17:50:14.428096500Z",
     "start_time": "2024-03-17T17:50:14.108386Z"
    }
   }
  },
  {
   "cell_type": "code",
   "execution_count": 135,
   "outputs": [
    {
     "name": "stdout",
     "output_type": "stream",
     "text": [
      "<class 'pandas.core.frame.DataFrame'>\n",
      "RangeIndex: 200300 entries, 0 to 200299\n",
      "Data columns (total 9 columns):\n",
      " #   Column         Non-Null Count   Dtype \n",
      "---  ------         --------------   ----- \n",
      " 0   Unnamed: 0     200300 non-null  int64 \n",
      " 1   business_unit  200300 non-null  object\n",
      " 2   client_typo    200300 non-null  object\n",
      " 3   loyal_new      200300 non-null  object\n",
      " 4   market         200300 non-null  object\n",
      " 5   resort         200300 non-null  object\n",
      " 6   sector_resort  200300 non-null  object\n",
      " 7   week_ref       200300 non-null  object\n",
      " 8   nbr_gm         200300 non-null  int64 \n",
      "dtypes: int64(2), object(7)\n",
      "memory usage: 13.8+ MB\n"
     ]
    }
   ],
   "source": [
    "df_copy.info()"
   ],
   "metadata": {
    "collapsed": false,
    "ExecuteTime": {
     "end_time": "2024-03-17T17:50:14.436709100Z",
     "start_time": "2024-03-17T17:50:14.116001500Z"
    }
   }
  },
  {
   "cell_type": "code",
   "execution_count": 136,
   "outputs": [],
   "source": [
    "# Sort dates\n",
    "df_copy.sort_values(by = ['week_ref'], axis = 0, inplace = True)"
   ],
   "metadata": {
    "collapsed": false,
    "ExecuteTime": {
     "end_time": "2024-03-17T17:50:14.436709100Z",
     "start_time": "2024-03-17T17:50:14.219797600Z"
    }
   }
  },
  {
   "cell_type": "code",
   "execution_count": 137,
   "outputs": [],
   "source": [
    "def process_data(df, condition = ['week_ref']):\n",
    "    \n",
    "    summed_nbr_gm = df.groupby(condition)['nbr_gm'].sum().reset_index()\n",
    "\n",
    "    categories = df.drop(columns=condition + ['nbr_gm'])\n",
    "\n",
    "\n",
    "    dummies = pd.get_dummies(categories, dtype=int)\n",
    "\n",
    "\n",
    "    dummies[condition] = df[condition]\n",
    "\n",
    "    summed_dummies = dummies.groupby(condition).sum().reset_index()\n",
    "\n",
    "    processed_data = pd.merge(summed_nbr_gm, summed_dummies, on=condition, how='outer')\n",
    "    \n",
    "    processed_data.drop([\"Unnamed: 0\"], axis=1, inplace=True)\n",
    "\n",
    "    processed_data['week_ref']= pd.to_datetime(processed_data[\"week_ref\"])\n",
    "    processed_data['year'] = processed_data['week_ref'].dt.year\n",
    "    processed_data['month'] = processed_data['week_ref'].dt.month\n",
    "    processed_data['week'] = processed_data['week_ref'].dt.isocalendar().week\n",
    "\n",
    "    return processed_data\n",
    "\n",
    "process = process_data(df_copy)"
   ],
   "metadata": {
    "collapsed": false,
    "ExecuteTime": {
     "end_time": "2024-03-17T17:50:14.682449600Z",
     "start_time": "2024-03-17T17:50:14.346691300Z"
    }
   }
  },
  {
   "cell_type": "code",
   "execution_count": 138,
   "outputs": [
    {
     "data": {
      "text/plain": "      week_ref  nbr_gm  business_unit_CH-ML  business_unit_EAF  \\\n309 2023-12-02   17695                   56                291   \n310 2023-12-09   20368                   60                326   \n311 2023-12-16   31081                   83                587   \n312 2023-12-23   38501                   86                810   \n313 2023-12-30   18497                   62                606   \n\n     business_unit_ESAP  business_unit_NORTH AMERICA  \\\n309                 240                          100   \n310                 269                          105   \n311                 389                          145   \n312                 398                          169   \n313                 207                          126   \n\n     business_unit_SOUTH AMERICA  client_typo_Adults  client_typo_Family  \\\n309                           60                 453                 294   \n310                           54                 427                 387   \n311                           84                 578                 710   \n312                           78                 661                 880   \n313                           76                 444                 633   \n\n     loyal_new_Loyal  ...  sector_resort_CLUB MED TWO  \\\n309              292  ...                           9   \n310              321  ...                           6   \n311              545  ...                           0   \n312              694  ...                          18   \n313              512  ...                          12   \n\n     sector_resort_EUROPE AFRICA SEA & COUNTRYSIDE  \\\n309                                            116   \n310                                             99   \n311                                            138   \n312                                            150   \n313                                             84   \n\n     sector_resort_EUROPE MOUNTAIN  sector_resort_JOYVIEW  \\\n309                             67                     12   \n310                            148                     10   \n311                            435                     11   \n312                            574                     14   \n313                            532                     10   \n\n     sector_resort_NORTH AMERICA  sector_resort_SOUTH AMERICA  \\\n309                          175                           32   \n310                          178                           27   \n311                          219                           41   \n312                          237                           50   \n313                          143                           19   \n\n     sector_resort_URBAN OASIS  year  month  week  \n309                          7  2023     12    48  \n310                          8  2023     12    49  \n311                          8  2023     12    50  \n312                          8  2023     12    51  \n313                          8  2023     12    52  \n\n[5 rows x 143 columns]",
      "text/html": "<div>\n<style scoped>\n    .dataframe tbody tr th:only-of-type {\n        vertical-align: middle;\n    }\n\n    .dataframe tbody tr th {\n        vertical-align: top;\n    }\n\n    .dataframe thead th {\n        text-align: right;\n    }\n</style>\n<table border=\"1\" class=\"dataframe\">\n  <thead>\n    <tr style=\"text-align: right;\">\n      <th></th>\n      <th>week_ref</th>\n      <th>nbr_gm</th>\n      <th>business_unit_CH-ML</th>\n      <th>business_unit_EAF</th>\n      <th>business_unit_ESAP</th>\n      <th>business_unit_NORTH AMERICA</th>\n      <th>business_unit_SOUTH AMERICA</th>\n      <th>client_typo_Adults</th>\n      <th>client_typo_Family</th>\n      <th>loyal_new_Loyal</th>\n      <th>...</th>\n      <th>sector_resort_CLUB MED TWO</th>\n      <th>sector_resort_EUROPE AFRICA SEA &amp; COUNTRYSIDE</th>\n      <th>sector_resort_EUROPE MOUNTAIN</th>\n      <th>sector_resort_JOYVIEW</th>\n      <th>sector_resort_NORTH AMERICA</th>\n      <th>sector_resort_SOUTH AMERICA</th>\n      <th>sector_resort_URBAN OASIS</th>\n      <th>year</th>\n      <th>month</th>\n      <th>week</th>\n    </tr>\n  </thead>\n  <tbody>\n    <tr>\n      <th>309</th>\n      <td>2023-12-02</td>\n      <td>17695</td>\n      <td>56</td>\n      <td>291</td>\n      <td>240</td>\n      <td>100</td>\n      <td>60</td>\n      <td>453</td>\n      <td>294</td>\n      <td>292</td>\n      <td>...</td>\n      <td>9</td>\n      <td>116</td>\n      <td>67</td>\n      <td>12</td>\n      <td>175</td>\n      <td>32</td>\n      <td>7</td>\n      <td>2023</td>\n      <td>12</td>\n      <td>48</td>\n    </tr>\n    <tr>\n      <th>310</th>\n      <td>2023-12-09</td>\n      <td>20368</td>\n      <td>60</td>\n      <td>326</td>\n      <td>269</td>\n      <td>105</td>\n      <td>54</td>\n      <td>427</td>\n      <td>387</td>\n      <td>321</td>\n      <td>...</td>\n      <td>6</td>\n      <td>99</td>\n      <td>148</td>\n      <td>10</td>\n      <td>178</td>\n      <td>27</td>\n      <td>8</td>\n      <td>2023</td>\n      <td>12</td>\n      <td>49</td>\n    </tr>\n    <tr>\n      <th>311</th>\n      <td>2023-12-16</td>\n      <td>31081</td>\n      <td>83</td>\n      <td>587</td>\n      <td>389</td>\n      <td>145</td>\n      <td>84</td>\n      <td>578</td>\n      <td>710</td>\n      <td>545</td>\n      <td>...</td>\n      <td>0</td>\n      <td>138</td>\n      <td>435</td>\n      <td>11</td>\n      <td>219</td>\n      <td>41</td>\n      <td>8</td>\n      <td>2023</td>\n      <td>12</td>\n      <td>50</td>\n    </tr>\n    <tr>\n      <th>312</th>\n      <td>2023-12-23</td>\n      <td>38501</td>\n      <td>86</td>\n      <td>810</td>\n      <td>398</td>\n      <td>169</td>\n      <td>78</td>\n      <td>661</td>\n      <td>880</td>\n      <td>694</td>\n      <td>...</td>\n      <td>18</td>\n      <td>150</td>\n      <td>574</td>\n      <td>14</td>\n      <td>237</td>\n      <td>50</td>\n      <td>8</td>\n      <td>2023</td>\n      <td>12</td>\n      <td>51</td>\n    </tr>\n    <tr>\n      <th>313</th>\n      <td>2023-12-30</td>\n      <td>18497</td>\n      <td>62</td>\n      <td>606</td>\n      <td>207</td>\n      <td>126</td>\n      <td>76</td>\n      <td>444</td>\n      <td>633</td>\n      <td>512</td>\n      <td>...</td>\n      <td>12</td>\n      <td>84</td>\n      <td>532</td>\n      <td>10</td>\n      <td>143</td>\n      <td>19</td>\n      <td>8</td>\n      <td>2023</td>\n      <td>12</td>\n      <td>52</td>\n    </tr>\n  </tbody>\n</table>\n<p>5 rows × 143 columns</p>\n</div>"
     },
     "execution_count": 138,
     "metadata": {},
     "output_type": "execute_result"
    }
   ],
   "source": [
    "process.tail()"
   ],
   "metadata": {
    "collapsed": false,
    "ExecuteTime": {
     "end_time": "2024-03-17T17:50:14.693947500Z",
     "start_time": "2024-03-17T17:50:14.682449600Z"
    }
   }
  },
  {
   "cell_type": "code",
   "execution_count": 139,
   "outputs": [],
   "source": [
    "## 1. Perform Date Decomposition\n",
    "process['week_ref']= pd.to_datetime(process[\"week_ref\"])\n",
    "process['year'] = process['week_ref'].dt.year\n",
    "process['month'] = process['week_ref'].dt.month\n",
    "process['week'] = process['week_ref'].dt.isocalendar().week"
   ],
   "metadata": {
    "collapsed": false,
    "ExecuteTime": {
     "end_time": "2024-03-17T17:50:14.697636700Z",
     "start_time": "2024-03-17T17:50:14.689629200Z"
    }
   }
  },
  {
   "cell_type": "code",
   "execution_count": 140,
   "outputs": [
    {
     "data": {
      "text/plain": "    week_ref  nbr_gm  business_unit_CH-ML  business_unit_EAF  \\\n0 2017-12-30    6452                   27                258   \n1 2018-01-06   14425                   38                412   \n2 2018-01-13   16271                   45                431   \n3 2018-01-20   18952                   52                417   \n4 2018-01-27   19110                   56                480   \n\n   business_unit_ESAP  business_unit_NORTH AMERICA  \\\n0                 137                           57   \n1                 237                           92   \n2                 234                          102   \n3                 220                           91   \n4                 196                          102   \n\n   business_unit_SOUTH AMERICA  client_typo_Adults  client_typo_Family  \\\n0                           39                 245                 273   \n1                           90                 480                 389   \n2                           87                 557                 342   \n3                           82                 490                 372   \n4                           86                 554                 366   \n\n   loyal_new_Loyal  ...  sector_resort_CLUB MED TWO  \\\n0              260  ...                           8   \n1              386  ...                           0   \n2              403  ...                          10   \n3              396  ...                           6   \n4              428  ...                           9   \n\n   sector_resort_EUROPE AFRICA SEA & COUNTRYSIDE  \\\n0                                             72   \n1                                             77   \n2                                             64   \n3                                             78   \n4                                             89   \n\n   sector_resort_EUROPE MOUNTAIN  sector_resort_JOYVIEW  \\\n0                             58                      0   \n1                            288                      0   \n2                            335                      2   \n3                            288                      3   \n4                            344                      6   \n\n   sector_resort_NORTH AMERICA  sector_resort_SOUTH AMERICA  \\\n0                          127                           29   \n1                          163                           34   \n2                          137                           33   \n3                          142                           33   \n4                          140                           38   \n\n   sector_resort_URBAN OASIS  year  month  week  \n0                          0  2017     12    52  \n1                          0  2018      1     1  \n2                          0  2018      1     2  \n3                          0  2018      1     3  \n4                          0  2018      1     4  \n\n[5 rows x 143 columns]",
      "text/html": "<div>\n<style scoped>\n    .dataframe tbody tr th:only-of-type {\n        vertical-align: middle;\n    }\n\n    .dataframe tbody tr th {\n        vertical-align: top;\n    }\n\n    .dataframe thead th {\n        text-align: right;\n    }\n</style>\n<table border=\"1\" class=\"dataframe\">\n  <thead>\n    <tr style=\"text-align: right;\">\n      <th></th>\n      <th>week_ref</th>\n      <th>nbr_gm</th>\n      <th>business_unit_CH-ML</th>\n      <th>business_unit_EAF</th>\n      <th>business_unit_ESAP</th>\n      <th>business_unit_NORTH AMERICA</th>\n      <th>business_unit_SOUTH AMERICA</th>\n      <th>client_typo_Adults</th>\n      <th>client_typo_Family</th>\n      <th>loyal_new_Loyal</th>\n      <th>...</th>\n      <th>sector_resort_CLUB MED TWO</th>\n      <th>sector_resort_EUROPE AFRICA SEA &amp; COUNTRYSIDE</th>\n      <th>sector_resort_EUROPE MOUNTAIN</th>\n      <th>sector_resort_JOYVIEW</th>\n      <th>sector_resort_NORTH AMERICA</th>\n      <th>sector_resort_SOUTH AMERICA</th>\n      <th>sector_resort_URBAN OASIS</th>\n      <th>year</th>\n      <th>month</th>\n      <th>week</th>\n    </tr>\n  </thead>\n  <tbody>\n    <tr>\n      <th>0</th>\n      <td>2017-12-30</td>\n      <td>6452</td>\n      <td>27</td>\n      <td>258</td>\n      <td>137</td>\n      <td>57</td>\n      <td>39</td>\n      <td>245</td>\n      <td>273</td>\n      <td>260</td>\n      <td>...</td>\n      <td>8</td>\n      <td>72</td>\n      <td>58</td>\n      <td>0</td>\n      <td>127</td>\n      <td>29</td>\n      <td>0</td>\n      <td>2017</td>\n      <td>12</td>\n      <td>52</td>\n    </tr>\n    <tr>\n      <th>1</th>\n      <td>2018-01-06</td>\n      <td>14425</td>\n      <td>38</td>\n      <td>412</td>\n      <td>237</td>\n      <td>92</td>\n      <td>90</td>\n      <td>480</td>\n      <td>389</td>\n      <td>386</td>\n      <td>...</td>\n      <td>0</td>\n      <td>77</td>\n      <td>288</td>\n      <td>0</td>\n      <td>163</td>\n      <td>34</td>\n      <td>0</td>\n      <td>2018</td>\n      <td>1</td>\n      <td>1</td>\n    </tr>\n    <tr>\n      <th>2</th>\n      <td>2018-01-13</td>\n      <td>16271</td>\n      <td>45</td>\n      <td>431</td>\n      <td>234</td>\n      <td>102</td>\n      <td>87</td>\n      <td>557</td>\n      <td>342</td>\n      <td>403</td>\n      <td>...</td>\n      <td>10</td>\n      <td>64</td>\n      <td>335</td>\n      <td>2</td>\n      <td>137</td>\n      <td>33</td>\n      <td>0</td>\n      <td>2018</td>\n      <td>1</td>\n      <td>2</td>\n    </tr>\n    <tr>\n      <th>3</th>\n      <td>2018-01-20</td>\n      <td>18952</td>\n      <td>52</td>\n      <td>417</td>\n      <td>220</td>\n      <td>91</td>\n      <td>82</td>\n      <td>490</td>\n      <td>372</td>\n      <td>396</td>\n      <td>...</td>\n      <td>6</td>\n      <td>78</td>\n      <td>288</td>\n      <td>3</td>\n      <td>142</td>\n      <td>33</td>\n      <td>0</td>\n      <td>2018</td>\n      <td>1</td>\n      <td>3</td>\n    </tr>\n    <tr>\n      <th>4</th>\n      <td>2018-01-27</td>\n      <td>19110</td>\n      <td>56</td>\n      <td>480</td>\n      <td>196</td>\n      <td>102</td>\n      <td>86</td>\n      <td>554</td>\n      <td>366</td>\n      <td>428</td>\n      <td>...</td>\n      <td>9</td>\n      <td>89</td>\n      <td>344</td>\n      <td>6</td>\n      <td>140</td>\n      <td>38</td>\n      <td>0</td>\n      <td>2018</td>\n      <td>1</td>\n      <td>4</td>\n    </tr>\n  </tbody>\n</table>\n<p>5 rows × 143 columns</p>\n</div>"
     },
     "execution_count": 140,
     "metadata": {},
     "output_type": "execute_result"
    }
   ],
   "source": [
    "process.head()"
   ],
   "metadata": {
    "collapsed": false,
    "ExecuteTime": {
     "end_time": "2024-03-17T17:50:14.729376300Z",
     "start_time": "2024-03-17T17:50:14.697636700Z"
    }
   }
  },
  {
   "cell_type": "code",
   "execution_count": 141,
   "outputs": [
    {
     "data": {
      "text/plain": "2017-12-30    1\n2021-12-11    1\n2022-01-29    1\n2022-01-22    1\n2022-01-15    1\n             ..\n2019-12-28    1\n2019-12-21    1\n2019-12-14    1\n2019-12-07    1\n2023-12-30    1\nName: week_ref, Length: 314, dtype: int64"
     },
     "execution_count": 141,
     "metadata": {},
     "output_type": "execute_result"
    }
   ],
   "source": [
    "process['week_ref'].value_counts()"
   ],
   "metadata": {
    "collapsed": false,
    "ExecuteTime": {
     "end_time": "2024-03-17T17:50:14.729376300Z",
     "start_time": "2024-03-17T17:50:14.709133400Z"
    }
   }
  },
  {
   "cell_type": "code",
   "execution_count": 142,
   "outputs": [
    {
     "data": {
      "text/plain": "week_ref                       datetime64[ns]\nnbr_gm                                  int64\nbusiness_unit_CH-ML                     int32\nbusiness_unit_EAF                       int32\nbusiness_unit_ESAP                      int32\n                                    ...      \nsector_resort_SOUTH AMERICA             int32\nsector_resort_URBAN OASIS               int32\nyear                                    int64\nmonth                                   int64\nweek                                   UInt32\nLength: 143, dtype: object"
     },
     "execution_count": 142,
     "metadata": {},
     "output_type": "execute_result"
    }
   ],
   "source": [
    "process.dtypes"
   ],
   "metadata": {
    "collapsed": false,
    "ExecuteTime": {
     "end_time": "2024-03-17T17:50:14.761116500Z",
     "start_time": "2024-03-17T17:50:14.718573700Z"
    }
   }
  },
  {
   "cell_type": "markdown",
   "source": [
    "## Split train/test sets before feature engineering"
   ],
   "metadata": {
    "collapsed": false,
    "ExecuteTime": {
     "end_time": "2024-03-17T17:01:50.938060700Z",
     "start_time": "2024-03-17T17:01:50.833599600Z"
    }
   }
  },
  {
   "cell_type": "code",
   "execution_count": 143,
   "outputs": [],
   "source": [
    "# Split into train and test set prior to feature engineering\n",
    "split_time = '2023-01-01'\n",
    "\n",
    "def split_data(df, split_time):\n",
    "    \"\"\"\n",
    "    Splits data set into train and test sets based off split_time\n",
    "    \"\"\"\n",
    "    # Set up train and test set\n",
    "    train = df[df[\"week_ref\"] < split_time]\n",
    "    test = df[df[\"week_ref\"] >= split_time]\n",
    "    return train, test"
   ],
   "metadata": {
    "collapsed": false,
    "ExecuteTime": {
     "end_time": "2024-03-17T17:50:14.777083400Z",
     "start_time": "2024-03-17T17:50:14.724191500Z"
    }
   }
  },
  {
   "cell_type": "code",
   "execution_count": 144,
   "outputs": [],
   "source": [
    "train,test = split_data(process, split_time)"
   ],
   "metadata": {
    "collapsed": false,
    "ExecuteTime": {
     "end_time": "2024-03-17T17:50:14.802178100Z",
     "start_time": "2024-03-17T17:50:14.728724900Z"
    }
   }
  },
  {
   "cell_type": "code",
   "execution_count": 145,
   "outputs": [
    {
     "data": {
      "text/plain": "<Figure size 640x480 with 1 Axes>",
      "image/png": "[encoded data removed]"
     },
     "execution_count": 145,
     "metadata": {},
     "output_type": "execute_result"
    },
    {
     "data": {
      "text/plain": "<Figure size 640x480 with 1 Axes>",
      "image/png": "[encoded data removed]"
     },
     "metadata": {},
     "output_type": "display_data"
    },
    {
     "data": {
      "text/plain": "<Figure size 640x480 with 1 Axes>",
      "image/png": "[encoded data removed]"
     },
     "metadata": {},
     "output_type": "display_data"
    }
   ],
   "source": [
    "# Check autocorrelation and partial autocorrelation\n",
    "from statsmodels.graphics.tsaplots import plot_acf, plot_pacf\n",
    "\n",
    "# Plot ACF\n",
    "plot_acf(train[\"nbr_gm\"], lags = 70)\n",
    "\n",
    "# plot PACF\n",
    "plot_pacf(train[\"nbr_gm\"], lags = 20)"
   ],
   "metadata": {
    "collapsed": false,
    "ExecuteTime": {
     "end_time": "2024-03-17T17:50:15.037328800Z",
     "start_time": "2024-03-17T17:50:14.736054500Z"
    }
   }
  },
  {
   "cell_type": "markdown",
   "source": [
    "There is a strong autocorrelation with lag = 2. Will create a new column with lag = 2."
   ],
   "metadata": {
    "collapsed": false
   }
  },
  {
   "cell_type": "markdown",
   "source": [
    "## Adding Lag-Feature"
   ],
   "metadata": {
    "collapsed": false,
    "ExecuteTime": {
     "end_time": "2024-03-17T17:01:51.218877700Z",
     "start_time": "2024-03-17T17:01:51.187520800Z"
    }
   }
  },
  {
   "cell_type": "code",
   "execution_count": 146,
   "outputs": [],
   "source": [
    "# Creating lag features for time-series data\n",
    "\n",
    "def create_lag_features(data, lag_steps=1):\n",
    "    dataframe = data.copy()\n",
    "    for i in range(1, lag_steps + 1):\n",
    "\n",
    "        dataframe[f'week_lag_{i}'] = dataframe['nbr_gm'].shift(i)\n",
    "\n",
    "    return dataframe"
   ],
   "metadata": {
    "collapsed": false,
    "ExecuteTime": {
     "end_time": "2024-03-17T17:50:15.037328800Z",
     "start_time": "2024-03-17T17:50:15.009514800Z"
    }
   }
  },
  {
   "cell_type": "code",
   "execution_count": 147,
   "outputs": [],
   "source": [
    "train_lag = create_lag_features(train, lag_steps = 2)\n",
    "test_lag = create_lag_features(test, lag_steps = 2)"
   ],
   "metadata": {
    "collapsed": false,
    "ExecuteTime": {
     "end_time": "2024-03-17T17:50:15.037328800Z",
     "start_time": "2024-03-17T17:50:15.014216900Z"
    }
   }
  },
  {
   "cell_type": "markdown",
   "source": [
    "## Add Rolling Mean\n",
    "\n",
    " * Captures trends over short periods"
   ],
   "metadata": {
    "collapsed": false,
    "ExecuteTime": {
     "end_time": "2024-03-17T17:01:51.219883Z",
     "start_time": "2024-03-17T17:01:51.198754800Z"
    }
   }
  },
  {
   "cell_type": "code",
   "execution_count": 148,
   "outputs": [],
   "source": [
    "# Creating rolling mean for time-series data\n",
    "\n",
    "def create_rolling_mean(df, window_size=3):\n",
    "\n",
    "    df['rolling_mean'] = df['nbr_gm'].rolling(window=window_size).mean()\n",
    "\n",
    "    return df\n",
    "\n",
    "# Applying rolling mean to the train and test dataset\n",
    "\n",
    "train_rolled = create_rolling_mean(train_lag, window_size=7)\n",
    "test_rolled = create_rolling_mean(test_lag, window_size=7)"
   ],
   "metadata": {
    "collapsed": false,
    "ExecuteTime": {
     "end_time": "2024-03-17T17:50:15.037328800Z",
     "start_time": "2024-03-17T17:50:15.021284Z"
    }
   }
  },
  {
   "cell_type": "markdown",
   "source": [
    "## Add Fourier Transformation for capturing seasonality"
   ],
   "metadata": {
    "collapsed": false,
    "ExecuteTime": {
     "end_time": "2024-03-17T17:01:51.219883Z",
     "start_time": "2024-03-17T17:01:51.202680300Z"
    }
   }
  },
  {
   "cell_type": "code",
   "execution_count": 149,
   "outputs": [],
   "source": [
    "from scipy.fft import fft\n",
    "\n",
    "def apply_fourier_transform(df):\n",
    "\n",
    "    values = df['nbr_gm'].values\n",
    "\n",
    "    fourier_transform = fft(values)\n",
    "\n",
    "    df['fourier_transform'] = np.abs(fourier_transform)\n",
    "\n",
    "    return df\n",
    "\n",
    "# Applying Fourier transformation to the dataset\n",
    "\n",
    "train_fourier = apply_fourier_transform(train_lag)\n",
    "test_fourier = apply_fourier_transform(test_lag)"
   ],
   "metadata": {
    "collapsed": false,
    "ExecuteTime": {
     "end_time": "2024-03-17T17:50:15.037328800Z",
     "start_time": "2024-03-17T17:50:15.026839300Z"
    }
   }
  },
  {
   "cell_type": "code",
   "execution_count": 150,
   "outputs": [],
   "source": [
    "## Global function\n",
    "\n",
    "def time_series_var(data,lag_calc = True, lag_steps = 1, rolling_mean = True, window_size = 8, fourier = True):\n",
    "    \"\"\"\n",
    "    Function to take a dataset through feature engineering for lag, rolling mean and fourier transformation\n",
    "    \"\"\"\n",
    "\n",
    "    from scipy.fft import fft\n",
    "    \n",
    "    dataframe = data.copy()\n",
    "    if lag_calc == True:\n",
    "        for i in range(1, lag_steps + 1):\n",
    "\n",
    "            dataframe[f'week_lag_{i}'] = dataframe['nbr_gm'].shift(i)\n",
    "\n",
    "    if rolling_mean == True:\n",
    "        dataframe['rolling_mean'] = dataframe['nbr_gm'].rolling(window=window_size).mean()\n",
    "\n",
    "    if fourier:\n",
    "        # Handling NaNs by filling with an appropriate value or interpolation before FFT\n",
    "        values = dataframe['nbr_gm'].fillna(method='ffill').values  # Example: forward fill\n",
    "        \n",
    "        if len(values) > 0:\n",
    "            fourier_transform = fft(values)\n",
    "            dataframe['fourier_transform'] = np.abs(fourier_transform)\n",
    "        else:\n",
    "            dataframe['fourier_transform'] = np.nan\n",
    "\n",
    "    \n",
    "    return dataframe"
   ],
   "metadata": {
    "collapsed": false,
    "ExecuteTime": {
     "end_time": "2024-03-17T17:50:15.066074500Z",
     "start_time": "2024-03-17T17:50:15.033440100Z"
    }
   }
  },
  {
   "cell_type": "code",
   "execution_count": 151,
   "outputs": [],
   "source": [
    "train_updated = time_series_var(train)\n",
    "test_updated = time_series_var(test)"
   ],
   "metadata": {
    "collapsed": false,
    "ExecuteTime": {
     "end_time": "2024-03-17T17:50:15.066074500Z",
     "start_time": "2024-03-17T17:50:15.038450500Z"
    }
   }
  },
  {
   "cell_type": "markdown",
   "source": [
    "# Statistical Learning\n",
    "---"
   ],
   "metadata": {
    "collapsed": false
   }
  },
  {
   "cell_type": "markdown",
   "source": [
    "## Business Unit Predictions"
   ],
   "metadata": {
    "collapsed": false
   }
  },
  {
   "cell_type": "code",
   "execution_count": 152,
   "outputs": [],
   "source": [
    "import pandas as pd\n",
    "import numpy as np\n",
    "from statsmodels.tsa.ar_model import AutoReg\n",
    "from statsmodels.tsa.arima.model import ARIMA\n",
    "from statsmodels.tsa.holtwinters import ExponentialSmoothing\n",
    "from sklearn.metrics import mean_squared_error, mean_absolute_error\n",
    "\n",
    "# Fonction pour calculer MAPE\n",
    "def mean_absolute_percentage_error(y_true, y_pred): \n",
    "    return np.mean(np.abs((y_true - y_pred) / y_true)) * 100\n",
    "\n",
    "# Fonction pour calculer SMAPE\n",
    "def symmetric_mean_absolute_percentage_error(y_true, y_pred):\n",
    "    return np.mean(np.abs(y_pred - y_true) / ((np.abs(y_true) + np.abs(y_pred)) / 2)) * 100\n",
    "\n",
    "# Fonction pour calculer et afficher les métriques pour chaque modèle\n",
    "def calculate_and_display_metrics(df, feature, split_time='2023-01-01'):\n",
    "    models = {\n",
    "        'AR': AutoReg,\n",
    "        'MA': ARIMA,\n",
    "        'ARMA': ARIMA,\n",
    "        'ARIMA': ARIMA,\n",
    "        'HWES': ExponentialSmoothing\n",
    "    }\n",
    "\n",
    "    results = []\n",
    "\n",
    "    for model_name, model_func in models.items():\n",
    "        for feature_unit in sorted(df[feature].unique()):\n",
    "            df_feature = df[df[feature] == feature_unit]\n",
    "            df_agg = process_data(df_feature)\n",
    "\n",
    "            # Train Test Split\n",
    "            train, test = split_data(df_agg, split_time)\n",
    "\n",
    "            # Instantiate model\n",
    "            if model_name == 'AR':\n",
    "                model = model_func(train['nbr_gm'], lags=1)  # Utilisation d'un décalage de 1 pour AR\n",
    "            else:\n",
    "                model = model_func(train['nbr_gm'])  # Pas d'arguments supplémentaires pour ExponentialSmoothing\n",
    "\n",
    "            # Fit model\n",
    "            model_fit = model.fit()\n",
    "\n",
    "            # Make predictions\n",
    "            y_pred = model_fit.forecast(steps=len(test))\n",
    "\n",
    "            # Calculate metrics\n",
    "            mse = mean_squared_error(test['nbr_gm'], y_pred)\n",
    "            rmse = np.sqrt(mse)\n",
    "            mae = mean_absolute_error(test['nbr_gm'], y_pred)\n",
    "            mape = mean_absolute_percentage_error(test['nbr_gm'], y_pred)\n",
    "            smape = symmetric_mean_absolute_percentage_error(test['nbr_gm'], y_pred)\n",
    "            r2 = 1 - (np.sum((test['nbr_gm'] - y_pred) ** 2) / np.sum((test['nbr_gm'] - np.mean(test['nbr_gm'])) ** 2))\n",
    "\n",
    "            results.append({\n",
    "                'Feature': feature_unit,\n",
    "                'Model': model_name,\n",
    "                'MSE': mse,\n",
    "                'RMSE': rmse,\n",
    "                'MAE': mae,\n",
    "                'MAPE': mape,\n",
    "                'SMAPE': smape,\n",
    "                'R2': r2\n",
    "            })\n",
    "\n",
    "    results_df = pd.DataFrame(results)\n",
    "    return results_df.to_string(index=False)  # Convertit le DataFrame en chaîne de caractères pour l'impression"
   ],
   "metadata": {
    "collapsed": false,
    "ExecuteTime": {
     "end_time": "2024-03-17T17:50:15.074023600Z",
     "start_time": "2024-03-17T17:50:15.051032700Z"
    }
   }
  },
  {
   "cell_type": "code",
   "execution_count": 153,
   "outputs": [
    {
     "name": "stdout",
     "output_type": "stream",
     "text": [
      "      Feature Model          MSE        RMSE         MAE       MAPE     SMAPE        R2\n",
      "        CH-ML    AR 6.456950e+06 2541.052850 1817.850508  37.851057 46.698945 -0.458899\n",
      "          EAF    AR 1.870840e+07 4325.320982 3373.258379  35.808877 36.930702 -0.174668\n",
      "         ESAP    AR 2.970988e+06 1723.655285 1299.182041  29.251144 33.437129 -0.743876\n",
      "NORTH AMERICA    AR 2.226676e+06 1492.204959 1222.980498  33.227631 38.108928 -0.870417\n",
      "SOUTH AMERICA    AR 9.218143e+05  960.111620  615.557563  34.108449 30.407098  0.469335\n",
      "        CH-ML    MA 6.949964e+06 2636.278515 1891.204686  38.894308 49.096727 -0.570292\n",
      "          EAF    MA 2.306163e+07 4802.252999 3694.333538  36.441266 41.095341 -0.447999\n",
      "         ESAP    MA 4.166240e+06 2041.136863 1634.322226  35.529593 45.149011 -1.445451\n",
      "NORTH AMERICA    MA 3.790263e+06 1946.859879 1662.307098  43.429662 57.423128 -2.183837\n",
      "SOUTH AMERICA    MA 1.883677e+06 1372.471051  759.022068  36.238244 35.795120 -0.084385\n",
      "        CH-ML  ARMA 6.949964e+06 2636.278515 1891.204686  38.894308 49.096727 -0.570292\n",
      "          EAF  ARMA 2.306163e+07 4802.252999 3694.333538  36.441266 41.095341 -0.447999\n",
      "         ESAP  ARMA 4.166240e+06 2041.136863 1634.322226  35.529593 45.149011 -1.445451\n",
      "NORTH AMERICA  ARMA 3.790263e+06 1946.859879 1662.307098  43.429662 57.423128 -2.183837\n",
      "SOUTH AMERICA  ARMA 1.883677e+06 1372.471051  759.022068  36.238244 35.795120 -0.084385\n",
      "        CH-ML ARIMA 6.949964e+06 2636.278515 1891.204686  38.894308 49.096727 -0.570292\n",
      "          EAF ARIMA 2.306163e+07 4802.252999 3694.333538  36.441266 41.095341 -0.447999\n",
      "         ESAP ARIMA 4.166240e+06 2041.136863 1634.322226  35.529593 45.149011 -1.445451\n",
      "NORTH AMERICA ARIMA 3.790263e+06 1946.859879 1662.307098  43.429662 57.423128 -2.183837\n",
      "SOUTH AMERICA ARIMA 1.883677e+06 1372.471051  759.022068  36.238244 35.795120 -0.084385\n",
      "        CH-ML  HWES 4.699439e+06 2167.818885 1799.126944  51.202023 46.866514 -0.061803\n",
      "          EAF  HWES 2.270388e+07 4764.858902 4137.578890  65.135434 42.933025 -0.425537\n",
      "         ESAP  HWES 3.920943e+06 1980.137165 1753.167709  53.854726 38.794408 -1.301470\n",
      "NORTH AMERICA  HWES 4.618813e+06 2149.142330 1916.373337  74.392326 47.155933 -2.879822\n",
      "SOUTH AMERICA  HWES 6.178415e+06 2485.641752 2406.903673 174.932383 84.750193 -2.556757\n"
     ]
    },
    {
     "name": "stderr",
     "output_type": "stream",
     "text": [
      "C:\\Users\\manuc\\anaconda3\\Lib\\site-packages\\statsmodels\\tsa\\holtwinters\\model.py:917: ConvergenceWarning: Optimization failed to converge. Check mle_retvals.\n",
      "  warnings.warn(\n"
     ]
    }
   ],
   "source": [
    "# Utilisation de la fonction pour calculer et afficher les métriques\n",
    "print(calculate_and_display_metrics(df, 'business_unit'))"
   ],
   "metadata": {
    "collapsed": false,
    "ExecuteTime": {
     "end_time": "2024-03-17T17:50:17.555392100Z",
     "start_time": "2024-03-17T17:50:15.054332300Z"
    }
   }
  },
  {
   "cell_type": "code",
   "execution_count": 154,
   "metadata": {
    "ExecuteTime": {
     "end_time": "2024-03-17T17:50:18.569122600Z",
     "start_time": "2024-03-17T17:50:17.550826700Z"
    }
   },
   "outputs": [
    {
     "name": "stdout",
     "output_type": "stream",
     "text": [
      "   Unnamed: 0 business_unit client_typo  code_market code_resort loyal_new  \\\n",
      "0           0         CH-ML      Adults          370        AEXC       New   \n",
      "1           1         CH-ML      Adults          370        AEXC       New   \n",
      "2           2         CH-ML      Adults          370        ALBC     Loyal   \n",
      "3           3         CH-ML      Adults          370        ALBC     Loyal   \n",
      "4           4         CH-ML      Adults          370        ALBC     Loyal   \n",
      "\n",
      "           market  month        resort                    sector_resort  \\\n",
      "0  CHINA MAINLAND     12  ARCS EXTREME                  EUROPE MOUNTAIN   \n",
      "1  CHINA MAINLAND     12  ARCS EXTREME                  EUROPE MOUNTAIN   \n",
      "2  CHINA MAINLAND      1        ALBION  EUROPE AFRICA SEA & COUNTRYSIDE   \n",
      "3  CHINA MAINLAND      1        ALBION  EUROPE AFRICA SEA & COUNTRYSIDE   \n",
      "4  CHINA MAINLAND      1        ALBION  EUROPE AFRICA SEA & COUNTRYSIDE   \n",
      "\n",
      "     week_ref  year  nbr_gm  \n",
      "0  2018-12-15  2018       2  \n",
      "1  2019-12-14  2019       1  \n",
      "2  2018-01-27  2018       9  \n",
      "3  2019-01-26  2019       6  \n",
      "4  2020-01-04  2020       2  \n",
      "['CHINA MAINLAND' 'FRANCE' 'BELGIUM' 'SWITZERLAND' 'ITALY' 'GERMANY'\n",
      " 'AUSTRIA' 'UNITED KINGDOM' 'NETHERLANDS' 'SOUTH AFRICA' 'TURKEY' 'POLAND'\n",
      " 'RUSSIA' 'ISRAEL' 'SPAIN' 'IRELAND' 'ROMANIA' 'UKRAINE' 'EAST EUROPE'\n",
      " 'BALTICS' 'MOROCCO' 'LEBANON' 'SWEDEN' 'SCANDINAVIA' 'MIDDLE EAST'\n",
      " 'TUNISIA' 'PORTUGAL' 'OVERSEAS ASIA' 'AUSTRALIA' 'SINGAPORE' 'MALAYSIA'\n",
      " 'NEW ZEALAND' 'JAPAN' 'HONG KONG MARKET' 'INDONESIA' 'THAILAND' 'KOREA'\n",
      " 'TAIWAN MARKET' 'INDIA' 'VENTES VILLAGES ASIA' 'USA' 'CANADA' 'MEXICO'\n",
      " 'CENTRAL AMERICA' 'NORTHERN SOUTH AMERICA' 'BRAZIL' 'ARGENTINA'\n",
      " 'VENEZUELA' 'PARAGUAY/URUGUAY' 'CHILE']\n",
      "Market: ARGENTINA, Train Size: 231, Test Size: 52\n",
      "Market: AUSTRALIA, Train Size: 200, Test Size: 52\n",
      "Market: AUSTRIA, Train Size: 200, Test Size: 51\n",
      "Market: BALTICS, Train Size: 109, Test Size: 31\n",
      "Market: BELGIUM, Train Size: 246, Test Size: 52\n",
      "Market: BRAZIL, Train Size: 244, Test Size: 52\n",
      "Market: CANADA, Train Size: 237, Test Size: 52\n",
      "Market: CENTRAL AMERICA, Train Size: 26, Test Size: 43\n",
      "Market: CHILE, Train Size: 160, Test Size: 52\n",
      "Market: CHINA MAINLAND, Train Size: 261, Test Size: 52\n",
      "Market: EAST EUROPE, Train Size: 64, Test Size: 18\n",
      "Market: FRANCE, Train Size: 247, Test Size: 52\n",
      "Market: GERMANY, Train Size: 248, Test Size: 52\n",
      "Market: HONG KONG MARKET, Train Size: 212, Test Size: 52\n",
      "Market: INDIA, Train Size: 212, Test Size: 52\n",
      "Market: INDONESIA, Train Size: 161, Test Size: 50\n",
      "Market: IRELAND, Train Size: 0, Test Size: 18\n",
      "Market: ISRAEL, Train Size: 229, Test Size: 51\n",
      "Market: ITALY, Train Size: 220, Test Size: 52\n",
      "Market: JAPAN, Train Size: 251, Test Size: 52\n",
      "Market: KOREA, Train Size: 177, Test Size: 52\n",
      "Market: LEBANON, Train Size: 174, Test Size: 42\n",
      "Market: MALAYSIA, Train Size: 204, Test Size: 52\n",
      "Market: MEXICO, Train Size: 233, Test Size: 52\n",
      "Market: MIDDLE EAST, Train Size: 165, Test Size: 47\n",
      "Market: MOROCCO, Train Size: 133, Test Size: 40\n",
      "Market: NETHERLANDS, Train Size: 229, Test Size: 52\n",
      "Market: NEW ZEALAND, Train Size: 151, Test Size: 51\n",
      "Market: NORTHERN SOUTH AMERICA, Train Size: 111, Test Size: 28\n",
      "Market: OVERSEAS ASIA, Train Size: 128, Test Size: 34\n",
      "Market: PARAGUAY/URUGUAY, Train Size: 169, Test Size: 48\n",
      "Market: POLAND, Train Size: 230, Test Size: 50\n",
      "Market: PORTUGAL, Train Size: 222, Test Size: 52\n",
      "Market: ROMANIA, Train Size: 79, Test Size: 0\n",
      "Market: RUSSIA, Train Size: 241, Test Size: 52\n",
      "Market: SCANDINAVIA, Train Size: 196, Test Size: 48\n",
      "Market: SINGAPORE, Train Size: 198, Test Size: 52\n",
      "Market: SOUTH AFRICA, Train Size: 223, Test Size: 52\n",
      "Market: SPAIN, Train Size: 225, Test Size: 52\n",
      "Market: SWEDEN, Train Size: 74, Test Size: 38\n",
      "Market: SWITZERLAND, Train Size: 248, Test Size: 52\n",
      "Market: TAIWAN MARKET, Train Size: 152, Test Size: 52\n",
      "Market: THAILAND, Train Size: 167, Test Size: 52\n",
      "Market: TUNISIA, Train Size: 48, Test Size: 10\n",
      "Market: TURKEY, Train Size: 229, Test Size: 52\n",
      "Market: UKRAINE, Train Size: 197, Test Size: 42\n",
      "Market: UNITED KINGDOM, Train Size: 234, Test Size: 52\n",
      "Market: USA, Train Size: 249, Test Size: 52\n",
      "Market: VENEZUELA, Train Size: 4, Test Size: 2\n",
      "Market: VENTES VILLAGES ASIA, Train Size: 259, Test Size: 52\n"
     ]
    }
   ],
   "source": [
    "# Vérifier les données d'entrée\n",
    "print(df.head())\n",
    "\n",
    "# Vérifier les valeurs uniques de la caractéristique 'market'\n",
    "print(df['market'].unique())\n",
    "\n",
    "# Vérifier la taille des ensembles d'entraînement et de test pour chaque valeur de 'market'\n",
    "for feature_unit in sorted(df['market'].unique()):\n",
    "    df_feature = df[df['market'] == feature_unit]\n",
    "    df_agg = process_data(df_feature)\n",
    "    train, test = split_data(df_agg, split_time)\n",
    "    print(f'Market: {feature_unit}, Train Size: {len(train)}, Test Size: {len(test)}')\n"
   ]
  },
  {
   "cell_type": "code",
   "execution_count": 155,
   "metadata": {
    "collapsed": false,
    "ExecuteTime": {
     "end_time": "2024-03-17T17:50:18.577264500Z",
     "start_time": "2024-03-17T17:50:18.569122600Z"
    }
   },
   "outputs": [
    {
     "data": {
      "text/plain": "        Unnamed: 0  business_unit client_typo loyal_new            market  \\\n97324       112011            EAF      Family     Loyal             ITALY   \n192597      216826  SOUTH AMERICA      Adults       New         ARGENTINA   \n135578      154459           ESAP      Adults       New  HONG KONG MARKET   \n92579       106381            EAF      Family       New       SWITZERLAND   \n135453      154334           ESAP      Adults     Loyal  HONG KONG MARKET   \n\n                      resort    sector_resort    week_ref  nbr_gm  \n97324             PUNTA CANA    NORTH AMERICA  2017-12-30       4  \n192597        RIO DAS PEDRAS    SOUTH AMERICA  2017-12-30      10  \n135578           KANIFINOLHU         ASIA SUN  2017-12-30       1  \n92579   GRAND MASSIF SAMOENS  EUROPE MOUNTAIN  2017-12-30       2  \n135453           KANIFINOLHU         ASIA SUN  2017-12-30       2  ",
      "text/html": "<div>\n<style scoped>\n    .dataframe tbody tr th:only-of-type {\n        vertical-align: middle;\n    }\n\n    .dataframe tbody tr th {\n        vertical-align: top;\n    }\n\n    .dataframe thead th {\n        text-align: right;\n    }\n</style>\n<table border=\"1\" class=\"dataframe\">\n  <thead>\n    <tr style=\"text-align: right;\">\n      <th></th>\n      <th>Unnamed: 0</th>\n      <th>business_unit</th>\n      <th>client_typo</th>\n      <th>loyal_new</th>\n      <th>market</th>\n      <th>resort</th>\n      <th>sector_resort</th>\n      <th>week_ref</th>\n      <th>nbr_gm</th>\n    </tr>\n  </thead>\n  <tbody>\n    <tr>\n      <th>97324</th>\n      <td>112011</td>\n      <td>EAF</td>\n      <td>Family</td>\n      <td>Loyal</td>\n      <td>ITALY</td>\n      <td>PUNTA CANA</td>\n      <td>NORTH AMERICA</td>\n      <td>2017-12-30</td>\n      <td>4</td>\n    </tr>\n    <tr>\n      <th>192597</th>\n      <td>216826</td>\n      <td>SOUTH AMERICA</td>\n      <td>Adults</td>\n      <td>New</td>\n      <td>ARGENTINA</td>\n      <td>RIO DAS PEDRAS</td>\n      <td>SOUTH AMERICA</td>\n      <td>2017-12-30</td>\n      <td>10</td>\n    </tr>\n    <tr>\n      <th>135578</th>\n      <td>154459</td>\n      <td>ESAP</td>\n      <td>Adults</td>\n      <td>New</td>\n      <td>HONG KONG MARKET</td>\n      <td>KANIFINOLHU</td>\n      <td>ASIA SUN</td>\n      <td>2017-12-30</td>\n      <td>1</td>\n    </tr>\n    <tr>\n      <th>92579</th>\n      <td>106381</td>\n      <td>EAF</td>\n      <td>Family</td>\n      <td>New</td>\n      <td>SWITZERLAND</td>\n      <td>GRAND MASSIF SAMOENS</td>\n      <td>EUROPE MOUNTAIN</td>\n      <td>2017-12-30</td>\n      <td>2</td>\n    </tr>\n    <tr>\n      <th>135453</th>\n      <td>154334</td>\n      <td>ESAP</td>\n      <td>Adults</td>\n      <td>Loyal</td>\n      <td>HONG KONG MARKET</td>\n      <td>KANIFINOLHU</td>\n      <td>ASIA SUN</td>\n      <td>2017-12-30</td>\n      <td>2</td>\n    </tr>\n  </tbody>\n</table>\n</div>"
     },
     "execution_count": 155,
     "metadata": {},
     "output_type": "execute_result"
    }
   ],
   "source": [
    "df_copy.head()\n"
   ]
  },
  {
   "cell_type": "markdown",
   "metadata": {
    "collapsed": false,
    "ExecuteTime": {
     "end_time": "2024-03-17T17:01:57.677180Z",
     "start_time": "2024-03-17T17:01:57.584800600Z"
    }
   },
   "source": [
    "A \"respectful\" MAPE value largely depends on the context of the analysis, the industry standards, and the complexity of the data being forecasted. Generally, MAPE is used to assess the accuracy of forecasting models by comparing predicted values to actual values in percentage terms. The acceptability of a MAPE value is subjective and varies by application area. Here's a general guide to interpreting MAPE values:\n",
    "\n",
    "MAPE < 10%: Excellent. The model's forecasts are very close to the actual values.\n",
    "MAPE between 10% and 20%: Good. The forecasts are reasonable and can be considered accurate for many applications.\n",
    "MAPE between 20% and 50%: Fair. The accuracy is moderate, and the model might need improvement, depending on the application.\n",
    "MAPE > 50%: Poor. The model's forecasts are inaccurate and likely need significant revisions or reconsideration of the forecasting approach."
   ]
  },
  {
   "cell_type": "markdown",
   "metadata": {
    "ExecuteTime": {
     "end_time": "2024-03-17T17:01:58.772400400Z",
     "start_time": "2024-03-17T17:01:58.762234400Z"
    }
   },
   "source": [
    "## Market"
   ]
  },
  {
   "cell_type": "code",
   "execution_count": 156,
   "metadata": {
    "ExecuteTime": {
     "end_time": "2024-03-17T17:50:18.594113800Z",
     "start_time": "2024-03-17T17:50:18.577264500Z"
    }
   },
   "outputs": [
    {
     "data": {
      "text/plain": "        Unnamed: 0 business_unit client_typo loyal_new   market  \\\n68721        78907           EAF      Adults       New  IRELAND   \n119837      137916           EAF      Family       New  IRELAND   \n119829      137908           EAF      Family       New  IRELAND   \n68725        78911           EAF      Adults       New  IRELAND   \n119830      137909           EAF      Family       New  IRELAND   \n119827      137906           EAF      Family       New  IRELAND   \n119828      137907           EAF      Family     Loyal  IRELAND   \n68719        78905           EAF      Adults       New  IRELAND   \n68726        78912           EAF      Adults       New  IRELAND   \n68722        78908           EAF      Adults       New  IRELAND   \n68723        78909           EAF      Adults       New  IRELAND   \n68720        78906           EAF      Adults       New  IRELAND   \n68728        78914           EAF      Adults       New  IRELAND   \n119831      137910           EAF      Family       New  IRELAND   \n68724        78910           EAF      Adults     Loyal  IRELAND   \n119832      137911           EAF      Family       New  IRELAND   \n119834      137913           EAF      Family       New  IRELAND   \n119833      137912           EAF      Family     Loyal  IRELAND   \n68729        78915           EAF      Adults       New  IRELAND   \n68731        78917           EAF      Adults     Loyal  IRELAND   \n68733        78919           EAF      Adults       New  IRELAND   \n119826      137905           EAF      Family     Loyal  IRELAND   \n68727        78913           EAF      Adults       New  IRELAND   \n119823      137902           EAF      Family       New  IRELAND   \n68718        78904           EAF      Adults       New  IRELAND   \n68732        78918           EAF      Adults     Loyal  IRELAND   \n68730        78916           EAF      Adults       New  IRELAND   \n119838      137917           EAF      Family       New  IRELAND   \n119836      137915           EAF      Family       New  IRELAND   \n119835      137914           EAF      Family       New  IRELAND   \n119825      137904           EAF      Family       New  IRELAND   \n119824      137903           EAF      Family       New  IRELAND   \n\n                         resort                    sector_resort    week_ref  \\\n68721                    CEFALU  EUROPE AFRICA SEA & COUNTRYSIDE  2023-07-08   \n119837                   TIGNES                  EUROPE MOUNTAIN  2023-08-05   \n119829    LA PALMYRE ATLANTIQUE  EUROPE AFRICA SEA & COUNTRYSIDE  2023-08-26   \n68725            MAGNA MARBELLA  EUROPE AFRICA SEA & COUNTRYSIDE  2023-09-02   \n119830    LA PALMYRE ATLANTIQUE  EUROPE AFRICA SEA & COUNTRYSIDE  2023-09-09   \n119827                DA BALAIA  EUROPE AFRICA SEA & COUNTRYSIDE  2023-09-09   \n119828              GREGOLIMANO  EUROPE AFRICA SEA & COUNTRYSIDE  2023-09-16   \n68719            BODRUM PALMIYE  EUROPE AFRICA SEA & COUNTRYSIDE  2023-09-23   \n68726            MAGNA MARBELLA  EUROPE AFRICA SEA & COUNTRYSIDE  2023-09-30   \n68722                    CEFALU  EUROPE AFRICA SEA & COUNTRYSIDE  2023-10-07   \n68723                 DA BALAIA  EUROPE AFRICA SEA & COUNTRYSIDE  2023-10-07   \n68720                    CANCUN                    NORTH AMERICA  2023-10-28   \n68728                    PHUKET                         ASIA SUN  2023-10-28   \n119831           MAGNA MARBELLA  EUROPE AFRICA SEA & COUNTRYSIDE  2023-10-28   \n68724            MAGNA MARBELLA  EUROPE AFRICA SEA & COUNTRYSIDE  2023-11-04   \n119832           MAGNA MARBELLA  EUROPE AFRICA SEA & COUNTRYSIDE  2023-11-04   \n119834               PUNTA CANA                    NORTH AMERICA  2023-11-11   \n119833   MARRAKECH LA PALMERAIE  EUROPE AFRICA SEA & COUNTRYSIDE  2023-11-18   \n68729         QUEBEC CHARLEVOIX                    NORTH AMERICA  2023-12-02   \n68731    VAL THORENS SENSATIONS                  EUROPE MOUNTAIN  2023-12-09   \n68733    VAL THORENS SENSATIONS                  EUROPE MOUNTAIN  2023-12-09   \n119826                   CANCUN                    NORTH AMERICA  2023-12-16   \n68727    MARRAKECH LA PALMERAIE  EUROPE AFRICA SEA & COUNTRYSIDE  2023-12-16   \n119823              ALPE D'HUEZ                  EUROPE MOUNTAIN  2023-12-23   \n68718               ALPE D'HUEZ                  EUROPE MOUNTAIN  2023-12-23   \n68732    VAL THORENS SENSATIONS                  EUROPE MOUNTAIN  2023-12-30   \n68730           SERRE CHEVALIER                  EUROPE MOUNTAIN  2023-12-30   \n119838   VAL THORENS SENSATIONS                  EUROPE MOUNTAIN  2023-12-30   \n119836  SAINT MORITZ ROI SOLEIL                  EUROPE MOUNTAIN  2023-12-30   \n119835          SERRE CHEVALIER                  EUROPE MOUNTAIN  2023-12-30   \n119825            ARCS PANORAMA                  EUROPE MOUNTAIN  2023-12-30   \n119824              ALPE D'HUEZ                  EUROPE MOUNTAIN  2023-12-30   \n\n        nbr_gm  \n68721        2  \n119837       4  \n119829       3  \n68725        1  \n119830       4  \n119827       3  \n119828       5  \n68719        1  \n68726        2  \n68722        2  \n68723        1  \n68720        5  \n68728        1  \n119831       3  \n68724        1  \n119832       3  \n119834       4  \n119833       6  \n68729        2  \n68731        2  \n68733        2  \n119826       4  \n68727        2  \n119823      10  \n68718        1  \n68732        4  \n68730        2  \n119838       2  \n119836       5  \n119835      10  \n119825       8  \n119824       4  ",
      "text/html": "<div>\n<style scoped>\n    .dataframe tbody tr th:only-of-type {\n        vertical-align: middle;\n    }\n\n    .dataframe tbody tr th {\n        vertical-align: top;\n    }\n\n    .dataframe thead th {\n        text-align: right;\n    }\n</style>\n<table border=\"1\" class=\"dataframe\">\n  <thead>\n    <tr style=\"text-align: right;\">\n      <th></th>\n      <th>Unnamed: 0</th>\n      <th>business_unit</th>\n      <th>client_typo</th>\n      <th>loyal_new</th>\n      <th>market</th>\n      <th>resort</th>\n      <th>sector_resort</th>\n      <th>week_ref</th>\n      <th>nbr_gm</th>\n    </tr>\n  </thead>\n  <tbody>\n    <tr>\n      <th>68721</th>\n      <td>78907</td>\n      <td>EAF</td>\n      <td>Adults</td>\n      <td>New</td>\n      <td>IRELAND</td>\n      <td>CEFALU</td>\n      <td>EUROPE AFRICA SEA &amp; COUNTRYSIDE</td>\n      <td>2023-07-08</td>\n      <td>2</td>\n    </tr>\n    <tr>\n      <th>119837</th>\n      <td>137916</td>\n      <td>EAF</td>\n      <td>Family</td>\n      <td>New</td>\n      <td>IRELAND</td>\n      <td>TIGNES</td>\n      <td>EUROPE MOUNTAIN</td>\n      <td>2023-08-05</td>\n      <td>4</td>\n    </tr>\n    <tr>\n      <th>119829</th>\n      <td>137908</td>\n      <td>EAF</td>\n      <td>Family</td>\n      <td>New</td>\n      <td>IRELAND</td>\n      <td>LA PALMYRE ATLANTIQUE</td>\n      <td>EUROPE AFRICA SEA &amp; COUNTRYSIDE</td>\n      <td>2023-08-26</td>\n      <td>3</td>\n    </tr>\n    <tr>\n      <th>68725</th>\n      <td>78911</td>\n      <td>EAF</td>\n      <td>Adults</td>\n      <td>New</td>\n      <td>IRELAND</td>\n      <td>MAGNA MARBELLA</td>\n      <td>EUROPE AFRICA SEA &amp; COUNTRYSIDE</td>\n      <td>2023-09-02</td>\n      <td>1</td>\n    </tr>\n    <tr>\n      <th>119830</th>\n      <td>137909</td>\n      <td>EAF</td>\n      <td>Family</td>\n      <td>New</td>\n      <td>IRELAND</td>\n      <td>LA PALMYRE ATLANTIQUE</td>\n      <td>EUROPE AFRICA SEA &amp; COUNTRYSIDE</td>\n      <td>2023-09-09</td>\n      <td>4</td>\n    </tr>\n    <tr>\n      <th>119827</th>\n      <td>137906</td>\n      <td>EAF</td>\n      <td>Family</td>\n      <td>New</td>\n      <td>IRELAND</td>\n      <td>DA BALAIA</td>\n      <td>EUROPE AFRICA SEA &amp; COUNTRYSIDE</td>\n      <td>2023-09-09</td>\n      <td>3</td>\n    </tr>\n    <tr>\n      <th>119828</th>\n      <td>137907</td>\n      <td>EAF</td>\n      <td>Family</td>\n      <td>Loyal</td>\n      <td>IRELAND</td>\n      <td>GREGOLIMANO</td>\n      <td>EUROPE AFRICA SEA &amp; COUNTRYSIDE</td>\n      <td>2023-09-16</td>\n      <td>5</td>\n    </tr>\n    <tr>\n      <th>68719</th>\n      <td>78905</td>\n      <td>EAF</td>\n      <td>Adults</td>\n      <td>New</td>\n      <td>IRELAND</td>\n      <td>BODRUM PALMIYE</td>\n      <td>EUROPE AFRICA SEA &amp; COUNTRYSIDE</td>\n      <td>2023-09-23</td>\n      <td>1</td>\n    </tr>\n    <tr>\n      <th>68726</th>\n      <td>78912</td>\n      <td>EAF</td>\n      <td>Adults</td>\n      <td>New</td>\n      <td>IRELAND</td>\n      <td>MAGNA MARBELLA</td>\n      <td>EUROPE AFRICA SEA &amp; COUNTRYSIDE</td>\n      <td>2023-09-30</td>\n      <td>2</td>\n    </tr>\n    <tr>\n      <th>68722</th>\n      <td>78908</td>\n      <td>EAF</td>\n      <td>Adults</td>\n      <td>New</td>\n      <td>IRELAND</td>\n      <td>CEFALU</td>\n      <td>EUROPE AFRICA SEA &amp; COUNTRYSIDE</td>\n      <td>2023-10-07</td>\n      <td>2</td>\n    </tr>\n    <tr>\n      <th>68723</th>\n      <td>78909</td>\n      <td>EAF</td>\n      <td>Adults</td>\n      <td>New</td>\n      <td>IRELAND</td>\n      <td>DA BALAIA</td>\n      <td>EUROPE AFRICA SEA &amp; COUNTRYSIDE</td>\n      <td>2023-10-07</td>\n      <td>1</td>\n    </tr>\n    <tr>\n      <th>68720</th>\n      <td>78906</td>\n      <td>EAF</td>\n      <td>Adults</td>\n      <td>New</td>\n      <td>IRELAND</td>\n      <td>CANCUN</td>\n      <td>NORTH AMERICA</td>\n      <td>2023-10-28</td>\n      <td>5</td>\n    </tr>\n    <tr>\n      <th>68728</th>\n      <td>78914</td>\n      <td>EAF</td>\n      <td>Adults</td>\n      <td>New</td>\n      <td>IRELAND</td>\n      <td>PHUKET</td>\n      <td>ASIA SUN</td>\n      <td>2023-10-28</td>\n      <td>1</td>\n    </tr>\n    <tr>\n      <th>119831</th>\n      <td>137910</td>\n      <td>EAF</td>\n      <td>Family</td>\n      <td>New</td>\n      <td>IRELAND</td>\n      <td>MAGNA MARBELLA</td>\n      <td>EUROPE AFRICA SEA &amp; COUNTRYSIDE</td>\n      <td>2023-10-28</td>\n      <td>3</td>\n    </tr>\n    <tr>\n      <th>68724</th>\n      <td>78910</td>\n      <td>EAF</td>\n      <td>Adults</td>\n      <td>Loyal</td>\n      <td>IRELAND</td>\n      <td>MAGNA MARBELLA</td>\n      <td>EUROPE AFRICA SEA &amp; COUNTRYSIDE</td>\n      <td>2023-11-04</td>\n      <td>1</td>\n    </tr>\n    <tr>\n      <th>119832</th>\n      <td>137911</td>\n      <td>EAF</td>\n      <td>Family</td>\n      <td>New</td>\n      <td>IRELAND</td>\n      <td>MAGNA MARBELLA</td>\n      <td>EUROPE AFRICA SEA &amp; COUNTRYSIDE</td>\n      <td>2023-11-04</td>\n      <td>3</td>\n    </tr>\n    <tr>\n      <th>119834</th>\n      <td>137913</td>\n      <td>EAF</td>\n      <td>Family</td>\n      <td>New</td>\n      <td>IRELAND</td>\n      <td>PUNTA CANA</td>\n      <td>NORTH AMERICA</td>\n      <td>2023-11-11</td>\n      <td>4</td>\n    </tr>\n    <tr>\n      <th>119833</th>\n      <td>137912</td>\n      <td>EAF</td>\n      <td>Family</td>\n      <td>Loyal</td>\n      <td>IRELAND</td>\n      <td>MARRAKECH LA PALMERAIE</td>\n      <td>EUROPE AFRICA SEA &amp; COUNTRYSIDE</td>\n      <td>2023-11-18</td>\n      <td>6</td>\n    </tr>\n    <tr>\n      <th>68729</th>\n      <td>78915</td>\n      <td>EAF</td>\n      <td>Adults</td>\n      <td>New</td>\n      <td>IRELAND</td>\n      <td>QUEBEC CHARLEVOIX</td>\n      <td>NORTH AMERICA</td>\n      <td>2023-12-02</td>\n      <td>2</td>\n    </tr>\n    <tr>\n      <th>68731</th>\n      <td>78917</td>\n      <td>EAF</td>\n      <td>Adults</td>\n      <td>Loyal</td>\n      <td>IRELAND</td>\n      <td>VAL THORENS SENSATIONS</td>\n      <td>EUROPE MOUNTAIN</td>\n      <td>2023-12-09</td>\n      <td>2</td>\n    </tr>\n    <tr>\n      <th>68733</th>\n      <td>78919</td>\n      <td>EAF</td>\n      <td>Adults</td>\n      <td>New</td>\n      <td>IRELAND</td>\n      <td>VAL THORENS SENSATIONS</td>\n      <td>EUROPE MOUNTAIN</td>\n      <td>2023-12-09</td>\n      <td>2</td>\n    </tr>\n    <tr>\n      <th>119826</th>\n      <td>137905</td>\n      <td>EAF</td>\n      <td>Family</td>\n      <td>Loyal</td>\n      <td>IRELAND</td>\n      <td>CANCUN</td>\n      <td>NORTH AMERICA</td>\n      <td>2023-12-16</td>\n      <td>4</td>\n    </tr>\n    <tr>\n      <th>68727</th>\n      <td>78913</td>\n      <td>EAF</td>\n      <td>Adults</td>\n      <td>New</td>\n      <td>IRELAND</td>\n      <td>MARRAKECH LA PALMERAIE</td>\n      <td>EUROPE AFRICA SEA &amp; COUNTRYSIDE</td>\n      <td>2023-12-16</td>\n      <td>2</td>\n    </tr>\n    <tr>\n      <th>119823</th>\n      <td>137902</td>\n      <td>EAF</td>\n      <td>Family</td>\n      <td>New</td>\n      <td>IRELAND</td>\n      <td>ALPE D'HUEZ</td>\n      <td>EUROPE MOUNTAIN</td>\n      <td>2023-12-23</td>\n      <td>10</td>\n    </tr>\n    <tr>\n      <th>68718</th>\n      <td>78904</td>\n      <td>EAF</td>\n      <td>Adults</td>\n      <td>New</td>\n      <td>IRELAND</td>\n      <td>ALPE D'HUEZ</td>\n      <td>EUROPE MOUNTAIN</td>\n      <td>2023-12-23</td>\n      <td>1</td>\n    </tr>\n    <tr>\n      <th>68732</th>\n      <td>78918</td>\n      <td>EAF</td>\n      <td>Adults</td>\n      <td>Loyal</td>\n      <td>IRELAND</td>\n      <td>VAL THORENS SENSATIONS</td>\n      <td>EUROPE MOUNTAIN</td>\n      <td>2023-12-30</td>\n      <td>4</td>\n    </tr>\n    <tr>\n      <th>68730</th>\n      <td>78916</td>\n      <td>EAF</td>\n      <td>Adults</td>\n      <td>New</td>\n      <td>IRELAND</td>\n      <td>SERRE CHEVALIER</td>\n      <td>EUROPE MOUNTAIN</td>\n      <td>2023-12-30</td>\n      <td>2</td>\n    </tr>\n    <tr>\n      <th>119838</th>\n      <td>137917</td>\n      <td>EAF</td>\n      <td>Family</td>\n      <td>New</td>\n      <td>IRELAND</td>\n      <td>VAL THORENS SENSATIONS</td>\n      <td>EUROPE MOUNTAIN</td>\n      <td>2023-12-30</td>\n      <td>2</td>\n    </tr>\n    <tr>\n      <th>119836</th>\n      <td>137915</td>\n      <td>EAF</td>\n      <td>Family</td>\n      <td>New</td>\n      <td>IRELAND</td>\n      <td>SAINT MORITZ ROI SOLEIL</td>\n      <td>EUROPE MOUNTAIN</td>\n      <td>2023-12-30</td>\n      <td>5</td>\n    </tr>\n    <tr>\n      <th>119835</th>\n      <td>137914</td>\n      <td>EAF</td>\n      <td>Family</td>\n      <td>New</td>\n      <td>IRELAND</td>\n      <td>SERRE CHEVALIER</td>\n      <td>EUROPE MOUNTAIN</td>\n      <td>2023-12-30</td>\n      <td>10</td>\n    </tr>\n    <tr>\n      <th>119825</th>\n      <td>137904</td>\n      <td>EAF</td>\n      <td>Family</td>\n      <td>New</td>\n      <td>IRELAND</td>\n      <td>ARCS PANORAMA</td>\n      <td>EUROPE MOUNTAIN</td>\n      <td>2023-12-30</td>\n      <td>8</td>\n    </tr>\n    <tr>\n      <th>119824</th>\n      <td>137903</td>\n      <td>EAF</td>\n      <td>Family</td>\n      <td>New</td>\n      <td>IRELAND</td>\n      <td>ALPE D'HUEZ</td>\n      <td>EUROPE MOUNTAIN</td>\n      <td>2023-12-30</td>\n      <td>4</td>\n    </tr>\n  </tbody>\n</table>\n</div>"
     },
     "execution_count": 156,
     "metadata": {},
     "output_type": "execute_result"
    }
   ],
   "source": [
    "df_copy[df_copy['market'] == \"IRELAND\"]"
   ]
  },
  {
   "cell_type": "code",
   "execution_count": 157,
   "metadata": {
    "collapsed": false,
    "ExecuteTime": {
     "end_time": "2024-03-17T17:50:18.626693800Z",
     "start_time": "2024-03-17T17:50:18.594113800Z"
    }
   },
   "outputs": [],
   "source": [
    "df_copy2 = df.copy()"
   ]
  },
  {
   "cell_type": "code",
   "execution_count": 158,
   "metadata": {
    "ExecuteTime": {
     "end_time": "2024-03-17T17:50:18.683413900Z",
     "start_time": "2024-03-17T17:50:18.608148600Z"
    }
   },
   "outputs": [
    {
     "data": {
      "text/plain": "        Unnamed: 0  business_unit client_typo  code_market code_resort  \\\n0                0          CH-ML      Adults          370        AEXC   \n1                1          CH-ML      Adults          370        AEXC   \n2                2          CH-ML      Adults          370        ALBC   \n3                3          CH-ML      Adults          370        ALBC   \n4                4          CH-ML      Adults          370        ALBC   \n...            ...            ...         ...          ...         ...   \n200295      225395  SOUTH AMERICA      Family          820        TRAC   \n200296      225396  SOUTH AMERICA      Family          820        TRAC   \n200297      225397  SOUTH AMERICA      Family          820        VMOC   \n200298      225398  SOUTH AMERICA      Family          820        VTHC   \n200299      225399  SOUTH AMERICA      Family          820        VTHC   \n\n       loyal_new          market  month                  resort  \\\n0            New  CHINA MAINLAND     12            ARCS EXTREME   \n1            New  CHINA MAINLAND     12            ARCS EXTREME   \n2          Loyal  CHINA MAINLAND      1                  ALBION   \n3          Loyal  CHINA MAINLAND      1                  ALBION   \n4          Loyal  CHINA MAINLAND      1                  ALBION   \n...          ...             ...    ...                     ...   \n200295       New           CHILE     12                TRANCOSO   \n200296       New           CHILE     12                TRANCOSO   \n200297       New           CHILE      1                VALMOREL   \n200298     Loyal           CHILE      1  VAL THORENS SENSATIONS   \n200299       New           CHILE      1  VAL THORENS SENSATIONS   \n\n                          sector_resort    week_ref  year  nbr_gm  \n0                       EUROPE MOUNTAIN  2018-12-15  2018       2  \n1                       EUROPE MOUNTAIN  2019-12-14  2019       1  \n2       EUROPE AFRICA SEA & COUNTRYSIDE  2018-01-27  2018       9  \n3       EUROPE AFRICA SEA & COUNTRYSIDE  2019-01-26  2019       6  \n4       EUROPE AFRICA SEA & COUNTRYSIDE  2020-01-04  2020       2  \n...                                 ...         ...   ...     ...  \n200295                    SOUTH AMERICA  2019-12-14  2019       5  \n200296                    SOUTH AMERICA  2023-12-16  2023       2  \n200297                  EUROPE MOUNTAIN  2018-01-13  2018       3  \n200298                  EUROPE MOUNTAIN  2019-01-19  2019       4  \n200299                  EUROPE MOUNTAIN  2018-01-20  2018       4  \n\n[200300 rows x 13 columns]",
      "text/html": "<div>\n<style scoped>\n    .dataframe tbody tr th:only-of-type {\n        vertical-align: middle;\n    }\n\n    .dataframe tbody tr th {\n        vertical-align: top;\n    }\n\n    .dataframe thead th {\n        text-align: right;\n    }\n</style>\n<table border=\"1\" class=\"dataframe\">\n  <thead>\n    <tr style=\"text-align: right;\">\n      <th></th>\n      <th>Unnamed: 0</th>\n      <th>business_unit</th>\n      <th>client_typo</th>\n      <th>code_market</th>\n      <th>code_resort</th>\n      <th>loyal_new</th>\n      <th>market</th>\n      <th>month</th>\n      <th>resort</th>\n      <th>sector_resort</th>\n      <th>week_ref</th>\n      <th>year</th>\n      <th>nbr_gm</th>\n    </tr>\n  </thead>\n  <tbody>\n    <tr>\n      <th>0</th>\n      <td>0</td>\n      <td>CH-ML</td>\n      <td>Adults</td>\n      <td>370</td>\n      <td>AEXC</td>\n      <td>New</td>\n      <td>CHINA MAINLAND</td>\n      <td>12</td>\n      <td>ARCS EXTREME</td>\n      <td>EUROPE MOUNTAIN</td>\n      <td>2018-12-15</td>\n      <td>2018</td>\n      <td>2</td>\n    </tr>\n    <tr>\n      <th>1</th>\n      <td>1</td>\n      <td>CH-ML</td>\n      <td>Adults</td>\n      <td>370</td>\n      <td>AEXC</td>\n      <td>New</td>\n      <td>CHINA MAINLAND</td>\n      <td>12</td>\n      <td>ARCS EXTREME</td>\n      <td>EUROPE MOUNTAIN</td>\n      <td>2019-12-14</td>\n      <td>2019</td>\n      <td>1</td>\n    </tr>\n    <tr>\n      <th>2</th>\n      <td>2</td>\n      <td>CH-ML</td>\n      <td>Adults</td>\n      <td>370</td>\n      <td>ALBC</td>\n      <td>Loyal</td>\n      <td>CHINA MAINLAND</td>\n      <td>1</td>\n      <td>ALBION</td>\n      <td>EUROPE AFRICA SEA &amp; COUNTRYSIDE</td>\n      <td>2018-01-27</td>\n      <td>2018</td>\n      <td>9</td>\n    </tr>\n    <tr>\n      <th>3</th>\n      <td>3</td>\n      <td>CH-ML</td>\n      <td>Adults</td>\n      <td>370</td>\n      <td>ALBC</td>\n      <td>Loyal</td>\n      <td>CHINA MAINLAND</td>\n      <td>1</td>\n      <td>ALBION</td>\n      <td>EUROPE AFRICA SEA &amp; COUNTRYSIDE</td>\n      <td>2019-01-26</td>\n      <td>2019</td>\n      <td>6</td>\n    </tr>\n    <tr>\n      <th>4</th>\n      <td>4</td>\n      <td>CH-ML</td>\n      <td>Adults</td>\n      <td>370</td>\n      <td>ALBC</td>\n      <td>Loyal</td>\n      <td>CHINA MAINLAND</td>\n      <td>1</td>\n      <td>ALBION</td>\n      <td>EUROPE AFRICA SEA &amp; COUNTRYSIDE</td>\n      <td>2020-01-04</td>\n      <td>2020</td>\n      <td>2</td>\n    </tr>\n    <tr>\n      <th>...</th>\n      <td>...</td>\n      <td>...</td>\n      <td>...</td>\n      <td>...</td>\n      <td>...</td>\n      <td>...</td>\n      <td>...</td>\n      <td>...</td>\n      <td>...</td>\n      <td>...</td>\n      <td>...</td>\n      <td>...</td>\n      <td>...</td>\n    </tr>\n    <tr>\n      <th>200295</th>\n      <td>225395</td>\n      <td>SOUTH AMERICA</td>\n      <td>Family</td>\n      <td>820</td>\n      <td>TRAC</td>\n      <td>New</td>\n      <td>CHILE</td>\n      <td>12</td>\n      <td>TRANCOSO</td>\n      <td>SOUTH AMERICA</td>\n      <td>2019-12-14</td>\n      <td>2019</td>\n      <td>5</td>\n    </tr>\n    <tr>\n      <th>200296</th>\n      <td>225396</td>\n      <td>SOUTH AMERICA</td>\n      <td>Family</td>\n      <td>820</td>\n      <td>TRAC</td>\n      <td>New</td>\n      <td>CHILE</td>\n      <td>12</td>\n      <td>TRANCOSO</td>\n      <td>SOUTH AMERICA</td>\n      <td>2023-12-16</td>\n      <td>2023</td>\n      <td>2</td>\n    </tr>\n    <tr>\n      <th>200297</th>\n      <td>225397</td>\n      <td>SOUTH AMERICA</td>\n      <td>Family</td>\n      <td>820</td>\n      <td>VMOC</td>\n      <td>New</td>\n      <td>CHILE</td>\n      <td>1</td>\n      <td>VALMOREL</td>\n      <td>EUROPE MOUNTAIN</td>\n      <td>2018-01-13</td>\n      <td>2018</td>\n      <td>3</td>\n    </tr>\n    <tr>\n      <th>200298</th>\n      <td>225398</td>\n      <td>SOUTH AMERICA</td>\n      <td>Family</td>\n      <td>820</td>\n      <td>VTHC</td>\n      <td>Loyal</td>\n      <td>CHILE</td>\n      <td>1</td>\n      <td>VAL THORENS SENSATIONS</td>\n      <td>EUROPE MOUNTAIN</td>\n      <td>2019-01-19</td>\n      <td>2019</td>\n      <td>4</td>\n    </tr>\n    <tr>\n      <th>200299</th>\n      <td>225399</td>\n      <td>SOUTH AMERICA</td>\n      <td>Family</td>\n      <td>820</td>\n      <td>VTHC</td>\n      <td>New</td>\n      <td>CHILE</td>\n      <td>1</td>\n      <td>VAL THORENS SENSATIONS</td>\n      <td>EUROPE MOUNTAIN</td>\n      <td>2018-01-20</td>\n      <td>2018</td>\n      <td>4</td>\n    </tr>\n  </tbody>\n</table>\n<p>200300 rows × 13 columns</p>\n</div>"
     },
     "execution_count": 158,
     "metadata": {},
     "output_type": "execute_result"
    }
   ],
   "source": [
    "df_copy2"
   ]
  },
  {
   "cell_type": "code",
   "execution_count": 159,
   "metadata": {
    "collapsed": false,
    "ExecuteTime": {
     "end_time": "2024-03-17T17:50:18.704922300Z",
     "start_time": "2024-03-17T17:50:18.616058900Z"
    }
   },
   "outputs": [],
   "source": [
    "top_10 = df_copy2.groupby([\"market\"]).agg({'nbr_gm' : \"sum\"}).sort_values(by=\"nbr_gm\", ascending=False).head(10)"
   ]
  },
  {
   "cell_type": "code",
   "execution_count": 160,
   "metadata": {
    "collapsed": false,
    "ExecuteTime": {
     "end_time": "2024-03-17T17:50:18.704922300Z",
     "start_time": "2024-03-17T17:50:18.632444400Z"
    }
   },
   "outputs": [
    {
     "data": {
      "text/plain": "                 nbr_gm\nmarket                 \nFRANCE          1359534\nCHINA MAINLAND   822679\nBRAZIL           424356\nUSA              311564\nCANADA           259207\nBELGIUM          234222\nJAPAN            221755\nMALAYSIA         173459\nSINGAPORE        152025\nUNITED KINGDOM   136119",
      "text/html": "<div>\n<style scoped>\n    .dataframe tbody tr th:only-of-type {\n        vertical-align: middle;\n    }\n\n    .dataframe tbody tr th {\n        vertical-align: top;\n    }\n\n    .dataframe thead th {\n        text-align: right;\n    }\n</style>\n<table border=\"1\" class=\"dataframe\">\n  <thead>\n    <tr style=\"text-align: right;\">\n      <th></th>\n      <th>nbr_gm</th>\n    </tr>\n    <tr>\n      <th>market</th>\n      <th></th>\n    </tr>\n  </thead>\n  <tbody>\n    <tr>\n      <th>FRANCE</th>\n      <td>1359534</td>\n    </tr>\n    <tr>\n      <th>CHINA MAINLAND</th>\n      <td>822679</td>\n    </tr>\n    <tr>\n      <th>BRAZIL</th>\n      <td>424356</td>\n    </tr>\n    <tr>\n      <th>USA</th>\n      <td>311564</td>\n    </tr>\n    <tr>\n      <th>CANADA</th>\n      <td>259207</td>\n    </tr>\n    <tr>\n      <th>BELGIUM</th>\n      <td>234222</td>\n    </tr>\n    <tr>\n      <th>JAPAN</th>\n      <td>221755</td>\n    </tr>\n    <tr>\n      <th>MALAYSIA</th>\n      <td>173459</td>\n    </tr>\n    <tr>\n      <th>SINGAPORE</th>\n      <td>152025</td>\n    </tr>\n    <tr>\n      <th>UNITED KINGDOM</th>\n      <td>136119</td>\n    </tr>\n  </tbody>\n</table>\n</div>"
     },
     "execution_count": 160,
     "metadata": {},
     "output_type": "execute_result"
    }
   ],
   "source": [
    "top_10"
   ]
  },
  {
   "cell_type": "code",
   "execution_count": 161,
   "metadata": {
    "collapsed": false,
    "ExecuteTime": {
     "end_time": "2024-03-17T17:50:18.720935700Z",
     "start_time": "2024-03-17T17:50:18.636569800Z"
    }
   },
   "outputs": [
    {
     "data": {
      "text/plain": "Index(['FRANCE', 'CHINA MAINLAND', 'BRAZIL', 'USA', 'CANADA', 'BELGIUM',\n       'JAPAN', 'MALAYSIA', 'SINGAPORE', 'UNITED KINGDOM'],\n      dtype='object', name='market')"
     },
     "execution_count": 161,
     "metadata": {},
     "output_type": "execute_result"
    }
   ],
   "source": [
    "top_10.index"
   ]
  },
  {
   "cell_type": "code",
   "execution_count": 162,
   "metadata": {
    "collapsed": false,
    "ExecuteTime": {
     "end_time": "2024-03-17T17:50:18.785114800Z",
     "start_time": "2024-03-17T17:50:18.643216400Z"
    }
   },
   "outputs": [
    {
     "name": "stdout",
     "output_type": "stream",
     "text": [
      "2023-12-23    808\n",
      "2023-12-16    695\n",
      "2019-12-21    692\n",
      "2022-12-24    664\n",
      "2022-12-31    653\n",
      "             ... \n",
      "2021-03-06     66\n",
      "2021-03-20     65\n",
      "2021-04-17     64\n",
      "2021-02-27     62\n",
      "2021-04-10     56\n",
      "Name: week_ref, Length: 262, dtype: int64\n"
     ]
    }
   ],
   "source": [
    "df_copy_filtered = df_copy[df_copy['market'].isin(top_10.index)]\n",
    "df_copy_without_2021 = df_copy_filtered[pd.to_datetime(df_copy_filtered['week_ref']).dt.year != 2020]\n",
    "print(df_copy_without_2021[\"week_ref\"].value_counts())"
   ]
  },
  {
   "cell_type": "code",
   "execution_count": 163,
   "metadata": {
    "ExecuteTime": {
     "end_time": "2024-03-17T17:50:21.018598Z",
     "start_time": "2024-03-17T17:50:18.683413900Z"
    }
   },
   "outputs": [
    {
     "name": "stdout",
     "output_type": "stream",
     "text": [
      "       Feature Model          MSE        RMSE         MAE       MAPE     SMAPE         R2\n",
      "       BELGIUM    AR 3.501666e+05  591.748769  438.685371  54.718427 47.314761  -0.201425\n",
      "        BRAZIL    AR 7.740333e+05  879.791601  549.088285  37.821825 31.856473   0.449657\n",
      "        CANADA    AR 6.853008e+05  827.828991  646.003676  40.465074 42.164941  -0.494296\n",
      "CHINA MAINLAND    AR 6.456950e+06 2541.052850 1817.850508  37.851057 46.698945  -0.458899\n",
      "        FRANCE    AR 1.297766e+07 3602.451532 2675.479170  44.019111 46.719809  -0.229323\n",
      "         JAPAN    AR 4.073100e+05  638.208394  482.739513  68.670851 54.215828  -0.278237\n",
      "      MALAYSIA    AR 1.502855e+05  387.666751  299.862346  42.128699 39.472396  -0.094552\n",
      "     SINGAPORE    AR 6.917535e+05  831.717203  488.381982  55.963793 53.992729  -0.143020\n",
      "UNITED KINGDOM    AR 9.427333e+05  970.944552  529.145991  91.344427 68.822717  -0.137624\n",
      "           USA    AR 8.322175e+05  912.259580  618.431337  33.326579 41.566160  -0.550066\n",
      "       BELGIUM    MA 3.254925e+05  570.519531  413.870548  49.142717 45.227953  -0.116768\n",
      "        BRAZIL    MA 1.480667e+06 1216.826651  662.978909  39.751175 36.720205  -0.052765\n",
      "        CANADA    MA 1.164292e+06 1079.023743  873.078867  48.800905 66.464304  -1.538734\n",
      "CHINA MAINLAND    MA 6.949964e+06 2636.278515 1891.204686  38.894308 49.096727  -0.570292\n",
      "        FRANCE    MA 1.290870e+07 3592.867779 2646.348335  43.205572 46.027611  -0.222791\n",
      "         JAPAN    MA 3.942897e+05  627.924916  468.000306  62.074332 52.903129  -0.237376\n",
      "      MALAYSIA    MA 1.515394e+05  389.280621  300.500000  41.918074 39.565965  -0.103685\n",
      "     SINGAPORE    MA 6.939872e+05  833.058936  479.591492  51.169921 52.740004  -0.146711\n",
      "UNITED KINGDOM    MA 9.575215e+05  978.530285  533.627712  89.553226 70.255158  -0.155469\n",
      "           USA    MA 8.647807e+05  929.935880  650.125303  35.358332 44.484344  -0.610717\n",
      "       BELGIUM  ARMA 3.254925e+05  570.519531  413.870548  49.142717 45.227953  -0.116768\n",
      "        BRAZIL  ARMA 1.480667e+06 1216.826651  662.978909  39.751175 36.720205  -0.052765\n",
      "        CANADA  ARMA 1.164292e+06 1079.023743  873.078867  48.800905 66.464304  -1.538734\n",
      "CHINA MAINLAND  ARMA 6.949964e+06 2636.278515 1891.204686  38.894308 49.096727  -0.570292\n",
      "        FRANCE  ARMA 1.290870e+07 3592.867779 2646.348335  43.205572 46.027611  -0.222791\n",
      "         JAPAN  ARMA 3.942897e+05  627.924916  468.000306  62.074332 52.903129  -0.237376\n",
      "      MALAYSIA  ARMA 1.515394e+05  389.280621  300.500000  41.918074 39.565965  -0.103685\n",
      "     SINGAPORE  ARMA 6.939872e+05  833.058936  479.591492  51.169921 52.740004  -0.146711\n",
      "UNITED KINGDOM  ARMA 9.575215e+05  978.530285  533.627712  89.553226 70.255158  -0.155469\n",
      "           USA  ARMA 8.647807e+05  929.935880  650.125303  35.358332 44.484344  -0.610717\n",
      "       BELGIUM ARIMA 3.254925e+05  570.519531  413.870548  49.142717 45.227953  -0.116768\n",
      "        BRAZIL ARIMA 1.480667e+06 1216.826651  662.978909  39.751175 36.720205  -0.052765\n",
      "        CANADA ARIMA 1.164292e+06 1079.023743  873.078867  48.800905 66.464304  -1.538734\n",
      "CHINA MAINLAND ARIMA 6.949964e+06 2636.278515 1891.204686  38.894308 49.096727  -0.570292\n",
      "        FRANCE ARIMA 1.290870e+07 3592.867779 2646.348335  43.205572 46.027611  -0.222791\n",
      "         JAPAN ARIMA 3.942897e+05  627.924916  468.000306  62.074332 52.903129  -0.237376\n",
      "      MALAYSIA ARIMA 1.515394e+05  389.280621  300.500000  41.918074 39.565965  -0.103685\n",
      "     SINGAPORE ARIMA 6.939872e+05  833.058936  479.591492  51.169921 52.740004  -0.146711\n",
      "UNITED KINGDOM ARIMA 9.575215e+05  978.530285  533.627712  89.553226 70.255158  -0.155469\n",
      "           USA ARIMA 8.647807e+05  929.935880  650.125303  35.358332 44.484344  -0.610717\n",
      "       BELGIUM  HWES 3.634554e+05  602.872608  525.833386  90.387045 53.929635  -0.247019\n",
      "        BRAZIL  HWES 4.648235e+06 2155.976484 2085.145701 181.301140 86.039817  -2.304928\n",
      "        CANADA  HWES 5.495982e+06 2344.351058 2244.408745 195.662774 87.052212 -10.983966\n",
      "CHINA MAINLAND  HWES 4.699439e+06 2167.818885 1799.126944  51.202023 46.866514  -0.061803\n",
      "        FRANCE  HWES 1.569094e+07 3961.178653 2792.035345  39.359632 48.804241  -0.486341\n",
      "         JAPAN  HWES 3.699050e+05  608.198129  500.184375 108.489425 52.923353  -0.160851\n",
      "      MALAYSIA  HWES 1.373096e+05  370.553058  312.496131  51.465494 41.105568  -0.000046\n",
      "     SINGAPORE  HWES 6.199081e+05  787.342431  609.848854 110.787696 68.178654  -0.024306\n",
      "UNITED KINGDOM  HWES 1.170702e+06 1081.989642  945.263319 362.833948 99.509300  -0.412719\n",
      "           USA  HWES 7.185560e+05  847.676822  750.216625  67.759562 46.649079  -0.338363\n"
     ]
    },
    {
     "name": "stderr",
     "output_type": "stream",
     "text": [
      "C:\\Users\\manuc\\anaconda3\\Lib\\site-packages\\statsmodels\\tsa\\holtwinters\\model.py:917: ConvergenceWarning: Optimization failed to converge. Check mle_retvals.\n",
      "  warnings.warn(\n"
     ]
    }
   ],
   "source": [
    "# Utilisation de la fonction pour calculer et afficher les métriques\n",
    "print(calculate_and_display_metrics(df_copy_filtered, \"market\"))"
   ]
  },
  {
   "cell_type": "markdown",
   "metadata": {},
   "source": [
    "## Loyal vs. New"
   ]
  },
  {
   "cell_type": "code",
   "execution_count": 164,
   "metadata": {
    "ExecuteTime": {
     "end_time": "2024-03-17T17:50:23.299497Z",
     "start_time": "2024-03-17T17:50:21.010591800Z"
    }
   },
   "outputs": [
    {
     "name": "stderr",
     "output_type": "stream",
     "text": [
      "C:\\Users\\manuc\\anaconda3\\Lib\\site-packages\\statsmodels\\tsa\\holtwinters\\model.py:917: ConvergenceWarning: Optimization failed to converge. Check mle_retvals.\n",
      "  warnings.warn(\n"
     ]
    },
    {
     "name": "stdout",
     "output_type": "stream",
     "text": [
      "Feature Model          MSE        RMSE         MAE      MAPE     SMAPE        R2\n",
      "  Loyal    AR 8.903563e+06 2983.883881 2192.211652 26.462963 28.498487 -0.049204\n",
      "    New    AR 2.624443e+07 5122.931728 3576.074909 20.634316 24.800764 -0.558965\n",
      "  Loyal    MA 1.298279e+07 3603.164347 2729.577893 30.501710 36.233153 -0.529905\n",
      "    New    MA 5.535978e+07 7440.415235 6214.096807 36.312606 47.291472 -2.288467\n",
      "  Loyal  ARMA 1.298279e+07 3603.164347 2729.577893 30.501710 36.233153 -0.529905\n",
      "    New  ARMA 5.535978e+07 7440.415235 6214.096807 36.312606 47.291472 -2.288467\n",
      "  Loyal ARIMA 1.298279e+07 3603.164347 2729.577893 30.501710 36.233153 -0.529905\n",
      "    New ARIMA 5.535978e+07 7440.415235 6214.096807 36.312606 47.291472 -2.288467\n",
      "  Loyal  HWES 1.790471e+07 4231.395490 3674.913278 64.867808 43.573162 -1.109908\n",
      "    New  HWES 4.914262e+07 7010.180091 5944.424741 50.072886 35.916084 -1.919157\n"
     ]
    }
   ],
   "source": [
    "# Utilisation de la fonction pour calculer et afficher les métriques\n",
    "print(calculate_and_display_metrics(df, 'loyal_new'))"
   ]
  },
  {
   "cell_type": "markdown",
   "metadata": {},
   "source": [
    "## Client Type (Family vs. Adult)"
   ]
  },
  {
   "cell_type": "code",
   "execution_count": 165,
   "metadata": {
    "ExecuteTime": {
     "end_time": "2024-03-17T17:50:25.544441Z",
     "start_time": "2024-03-17T17:50:23.262980500Z"
    }
   },
   "outputs": [
    {
     "name": "stdout",
     "output_type": "stream",
     "text": [
      "Feature Model          MSE         RMSE         MAE      MAPE     SMAPE        R2\n",
      " Adults    AR 7.301450e+06  2702.119448 2337.469663 25.870449 30.654578 -1.409152\n",
      " Family    AR 4.813005e+07  6937.582309 5128.216893 34.586888 37.232793 -0.242126\n",
      " Adults    MA 1.341571e+07  3662.746385 3236.105862 35.633994 44.747908 -3.426585\n",
      " Family    MA 6.524405e+07  8077.378658 6296.118941 39.351876 47.251415 -0.683798\n",
      " Adults  ARMA 1.341571e+07  3662.746385 3236.105862 35.633994 44.747908 -3.426585\n",
      " Family  ARMA 6.524405e+07  8077.378658 6296.118941 39.351876 47.251415 -0.683798\n",
      " Adults ARIMA 1.341571e+07  3662.746385 3236.105862 35.633994 44.747908 -3.426585\n",
      " Family ARIMA 6.524405e+07  8077.378658 6296.118941 39.351876 47.251415 -0.683798\n",
      " Adults  HWES 3.569526e+06  1889.318932 1595.461534 20.582977 18.466024 -0.177784\n",
      " Family  HWES 1.037335e+08 10184.965257 8674.560086 96.255612 53.347870 -1.677123\n"
     ]
    },
    {
     "name": "stderr",
     "output_type": "stream",
     "text": [
      "C:\\Users\\manuc\\anaconda3\\Lib\\site-packages\\statsmodels\\tsa\\holtwinters\\model.py:917: ConvergenceWarning: Optimization failed to converge. Check mle_retvals.\n",
      "  warnings.warn(\n"
     ]
    }
   ],
   "source": [
    "print(calculate_and_display_metrics(df, 'client_typo'))"
   ]
  }
 ],
 "metadata": {
  "kernelspec": {
   "display_name": "base",
   "language": "python",
   "name": "python3"
  },
  "language_info": {
   "codemirror_mode": {
    "name": "ipython",
    "version": 3
   },
   "file_extension": ".py",
   "mimetype": "text/x-python",
   "name": "python",
   "nbconvert_exporter": "python",
   "pygments_lexer": "ipython3",
   "version": "3.11.8"
  },
  "orig_nbformat": 4
 },
 "nbformat": 4,
 "nbformat_minor": 2
}
